{
 "cells": [
  {
   "cell_type": "markdown",
   "id": "b9933673",
   "metadata": {},
   "source": [
    "# Google Play Store EDA"
   ]
  },
  {
   "cell_type": "markdown",
   "id": "ca826824",
   "metadata": {},
   "source": [
    "### _Разведочный анализ мобильных приложений из Google Play Store_"
   ]
  },
  {
   "cell_type": "markdown",
   "id": "b0728972",
   "metadata": {},
   "source": [
    "## Введение\n",
    "\n",
    "    \n",
    "### Содержание таблицы:\n",
    "    \n",
    "* **App** - название приложения\n",
    "\n",
    "* **Category** - категория\n",
    "\n",
    "* **Rating** - рейтинг\n",
    "\n",
    "* **Reviews** - количество отзывов\n",
    "\n",
    "* **Size** - размер приложения\n",
    "\n",
    "* **Installs** - количество скачиваний\n",
    "\n",
    "* **Type** - тип приложения (Платное/Бесплатное)\n",
    "\n",
    "* **Price** - цена\n",
    "\n",
    "* **Content Rating** - возрастная категория\n",
    "\n",
    "* **Genres** - жанры приложения\n",
    "\n",
    "* **Last Updated** - дата последнего обновления приложения\n",
    "\n",
    "* **Current Ver** - текущая версия приложения\n",
    "\n",
    "* **Android Ver** - совместимые с приложением версии Android\n",
    "   \n",
    "\n",
    "### Задачи:\n",
    "    \n",
    "\n",
    "* Подготовить данные к работе \n",
    "\n",
    "* Провести разведочный анализ данных\n",
    "\n",
    "* Сгенерировать полезные для бизнеса гипотезы и проверить их\n",
    "\n",
    "* Сформулировать выводы проведенного исследования"
   ]
  },
  {
   "cell_type": "code",
   "execution_count": 1,
   "id": "9c1d7d0a",
   "metadata": {},
   "outputs": [],
   "source": [
    "# Импортируем всё необходимое\n",
    "import numpy as np\n",
    "import pandas as pd\n",
    "import scipy.stats as stats\n",
    "import matplotlib.pyplot as plt\n",
    "import seaborn as sns\n",
    "pd.options.mode.chained_assignment = None"
   ]
  },
  {
   "cell_type": "code",
   "execution_count": 2,
   "id": "2b953177",
   "metadata": {},
   "outputs": [],
   "source": [
    "# Игнорируем некоторые предупреждения\n",
    "import warnings\n",
    "warnings.filterwarnings('ignore', category=FutureWarning)"
   ]
  },
  {
   "cell_type": "code",
   "execution_count": 3,
   "id": "f34f1a4d",
   "metadata": {},
   "outputs": [],
   "source": [
    "# Устанавливаем цветовую палитру\n",
    "sns.set_palette(sns.cubehelix_palette(66, start=.5, rot=-.75)[31:])"
   ]
  },
  {
   "cell_type": "code",
   "execution_count": 4,
   "id": "e43f94d8",
   "metadata": {},
   "outputs": [],
   "source": [
    "# Импортируем таблицу с данными\n",
    "apps = pd.read_csv('googleplaystore.csv')"
   ]
  },
  {
   "cell_type": "code",
   "execution_count": 5,
   "id": "0cea4536",
   "metadata": {},
   "outputs": [
    {
     "data": {
      "text/html": [
       "<div>\n",
       "<style scoped>\n",
       "    .dataframe tbody tr th:only-of-type {\n",
       "        vertical-align: middle;\n",
       "    }\n",
       "\n",
       "    .dataframe tbody tr th {\n",
       "        vertical-align: top;\n",
       "    }\n",
       "\n",
       "    .dataframe thead th {\n",
       "        text-align: right;\n",
       "    }\n",
       "</style>\n",
       "<table border=\"1\" class=\"dataframe\">\n",
       "  <thead>\n",
       "    <tr style=\"text-align: right;\">\n",
       "      <th></th>\n",
       "      <th>App</th>\n",
       "      <th>Category</th>\n",
       "      <th>Rating</th>\n",
       "      <th>Reviews</th>\n",
       "      <th>Size</th>\n",
       "      <th>Installs</th>\n",
       "      <th>Type</th>\n",
       "      <th>Price</th>\n",
       "      <th>Content Rating</th>\n",
       "      <th>Genres</th>\n",
       "      <th>Last Updated</th>\n",
       "      <th>Current Ver</th>\n",
       "      <th>Android Ver</th>\n",
       "    </tr>\n",
       "  </thead>\n",
       "  <tbody>\n",
       "    <tr>\n",
       "      <th>0</th>\n",
       "      <td>Photo Editor &amp; Candy Camera &amp; Grid &amp; ScrapBook</td>\n",
       "      <td>ART_AND_DESIGN</td>\n",
       "      <td>4.1</td>\n",
       "      <td>159</td>\n",
       "      <td>19M</td>\n",
       "      <td>10,000+</td>\n",
       "      <td>Free</td>\n",
       "      <td>0</td>\n",
       "      <td>Everyone</td>\n",
       "      <td>Art &amp; Design</td>\n",
       "      <td>January 7, 2018</td>\n",
       "      <td>1.0.0</td>\n",
       "      <td>4.0.3 and up</td>\n",
       "    </tr>\n",
       "    <tr>\n",
       "      <th>1</th>\n",
       "      <td>Coloring book moana</td>\n",
       "      <td>ART_AND_DESIGN</td>\n",
       "      <td>3.9</td>\n",
       "      <td>967</td>\n",
       "      <td>14M</td>\n",
       "      <td>500,000+</td>\n",
       "      <td>Free</td>\n",
       "      <td>0</td>\n",
       "      <td>Everyone</td>\n",
       "      <td>Art &amp; Design;Pretend Play</td>\n",
       "      <td>January 15, 2018</td>\n",
       "      <td>2.0.0</td>\n",
       "      <td>4.0.3 and up</td>\n",
       "    </tr>\n",
       "    <tr>\n",
       "      <th>2</th>\n",
       "      <td>U Launcher Lite – FREE Live Cool Themes, Hide ...</td>\n",
       "      <td>ART_AND_DESIGN</td>\n",
       "      <td>4.7</td>\n",
       "      <td>87510</td>\n",
       "      <td>8.7M</td>\n",
       "      <td>5,000,000+</td>\n",
       "      <td>Free</td>\n",
       "      <td>0</td>\n",
       "      <td>Everyone</td>\n",
       "      <td>Art &amp; Design</td>\n",
       "      <td>August 1, 2018</td>\n",
       "      <td>1.2.4</td>\n",
       "      <td>4.0.3 and up</td>\n",
       "    </tr>\n",
       "    <tr>\n",
       "      <th>3</th>\n",
       "      <td>Sketch - Draw &amp; Paint</td>\n",
       "      <td>ART_AND_DESIGN</td>\n",
       "      <td>4.5</td>\n",
       "      <td>215644</td>\n",
       "      <td>25M</td>\n",
       "      <td>50,000,000+</td>\n",
       "      <td>Free</td>\n",
       "      <td>0</td>\n",
       "      <td>Teen</td>\n",
       "      <td>Art &amp; Design</td>\n",
       "      <td>June 8, 2018</td>\n",
       "      <td>Varies with device</td>\n",
       "      <td>4.2 and up</td>\n",
       "    </tr>\n",
       "    <tr>\n",
       "      <th>4</th>\n",
       "      <td>Pixel Draw - Number Art Coloring Book</td>\n",
       "      <td>ART_AND_DESIGN</td>\n",
       "      <td>4.3</td>\n",
       "      <td>967</td>\n",
       "      <td>2.8M</td>\n",
       "      <td>100,000+</td>\n",
       "      <td>Free</td>\n",
       "      <td>0</td>\n",
       "      <td>Everyone</td>\n",
       "      <td>Art &amp; Design;Creativity</td>\n",
       "      <td>June 20, 2018</td>\n",
       "      <td>1.1</td>\n",
       "      <td>4.4 and up</td>\n",
       "    </tr>\n",
       "  </tbody>\n",
       "</table>\n",
       "</div>"
      ],
      "text/plain": [
       "                                                 App        Category  Rating  \\\n",
       "0     Photo Editor & Candy Camera & Grid & ScrapBook  ART_AND_DESIGN     4.1   \n",
       "1                                Coloring book moana  ART_AND_DESIGN     3.9   \n",
       "2  U Launcher Lite – FREE Live Cool Themes, Hide ...  ART_AND_DESIGN     4.7   \n",
       "3                              Sketch - Draw & Paint  ART_AND_DESIGN     4.5   \n",
       "4              Pixel Draw - Number Art Coloring Book  ART_AND_DESIGN     4.3   \n",
       "\n",
       "  Reviews  Size     Installs  Type Price Content Rating  \\\n",
       "0     159   19M      10,000+  Free     0       Everyone   \n",
       "1     967   14M     500,000+  Free     0       Everyone   \n",
       "2   87510  8.7M   5,000,000+  Free     0       Everyone   \n",
       "3  215644   25M  50,000,000+  Free     0           Teen   \n",
       "4     967  2.8M     100,000+  Free     0       Everyone   \n",
       "\n",
       "                      Genres      Last Updated         Current Ver  \\\n",
       "0               Art & Design   January 7, 2018               1.0.0   \n",
       "1  Art & Design;Pretend Play  January 15, 2018               2.0.0   \n",
       "2               Art & Design    August 1, 2018               1.2.4   \n",
       "3               Art & Design      June 8, 2018  Varies with device   \n",
       "4    Art & Design;Creativity     June 20, 2018                 1.1   \n",
       "\n",
       "    Android Ver  \n",
       "0  4.0.3 and up  \n",
       "1  4.0.3 and up  \n",
       "2  4.0.3 and up  \n",
       "3    4.2 and up  \n",
       "4    4.4 and up  "
      ]
     },
     "execution_count": 5,
     "metadata": {},
     "output_type": "execute_result"
    }
   ],
   "source": [
    "# Заглянем в таблицу\n",
    "apps.head()"
   ]
  },
  {
   "cell_type": "markdown",
   "id": "9a47ec4d",
   "metadata": {},
   "source": [
    "Нас интересует рейтинг приложений и кол-во их скачиваний. Нам хочется понять, какие приложения получают много скачиваний и высокий рейтинг"
   ]
  },
  {
   "cell_type": "markdown",
   "id": "611ce061",
   "metadata": {},
   "source": [
    "Для этого мы изучим то, как другие переменные вляют на них, и как все переменные взаимосвязаны"
   ]
  },
  {
   "cell_type": "markdown",
   "id": "f2898747",
   "metadata": {},
   "source": [
    "Проанализировав имеющиеся данные, проверим несколько гипотез и выделим наиболее значимые инсайты"
   ]
  },
  {
   "cell_type": "markdown",
   "id": "3d6885cd",
   "metadata": {},
   "source": [
    "Но сначала подготовим данные к работе"
   ]
  },
  {
   "cell_type": "markdown",
   "id": "35846907",
   "metadata": {},
   "source": [
    "# Очистка и форматирование данных"
   ]
  },
  {
   "cell_type": "markdown",
   "id": "ae9f9e1c",
   "metadata": {},
   "source": [
    "### Удаление дубликатов"
   ]
  },
  {
   "cell_type": "code",
   "execution_count": 6,
   "id": "a4264bad",
   "metadata": {},
   "outputs": [
    {
     "data": {
      "text/plain": [
       "count      10841\n",
       "unique      9660\n",
       "top       ROBLOX\n",
       "freq           9\n",
       "Name: App, dtype: object"
      ]
     },
     "execution_count": 6,
     "metadata": {},
     "output_type": "execute_result"
    }
   ],
   "source": [
    "# Выведем информацию о названиях приложений\n",
    "apps.App.describe()"
   ]
  },
  {
   "cell_type": "markdown",
   "id": "6513e756",
   "metadata": {},
   "source": [
    "В таблице есть повторяющиеся приложения"
   ]
  },
  {
   "cell_type": "code",
   "execution_count": 7,
   "id": "78d22ece",
   "metadata": {},
   "outputs": [
    {
     "data": {
      "text/html": [
       "<div>\n",
       "<style scoped>\n",
       "    .dataframe tbody tr th:only-of-type {\n",
       "        vertical-align: middle;\n",
       "    }\n",
       "\n",
       "    .dataframe tbody tr th {\n",
       "        vertical-align: top;\n",
       "    }\n",
       "\n",
       "    .dataframe thead th {\n",
       "        text-align: right;\n",
       "    }\n",
       "</style>\n",
       "<table border=\"1\" class=\"dataframe\">\n",
       "  <thead>\n",
       "    <tr style=\"text-align: right;\">\n",
       "      <th></th>\n",
       "      <th>App</th>\n",
       "      <th>Count</th>\n",
       "    </tr>\n",
       "  </thead>\n",
       "  <tbody>\n",
       "    <tr>\n",
       "      <th>570</th>\n",
       "      <td>ROBLOX</td>\n",
       "      <td>9</td>\n",
       "    </tr>\n",
       "    <tr>\n",
       "      <th>102</th>\n",
       "      <td>CBS Sports App - Scores, News, Stats &amp; Watch Live</td>\n",
       "      <td>8</td>\n",
       "    </tr>\n",
       "    <tr>\n",
       "      <th>211</th>\n",
       "      <td>Duolingo: Learn Languages Free</td>\n",
       "      <td>7</td>\n",
       "    </tr>\n",
       "    <tr>\n",
       "      <th>218</th>\n",
       "      <td>ESPN</td>\n",
       "      <td>7</td>\n",
       "    </tr>\n",
       "    <tr>\n",
       "      <th>6</th>\n",
       "      <td>8 Ball Pool</td>\n",
       "      <td>7</td>\n",
       "    </tr>\n",
       "    <tr>\n",
       "      <th>...</th>\n",
       "      <td>...</td>\n",
       "      <td>...</td>\n",
       "    </tr>\n",
       "    <tr>\n",
       "      <th>301</th>\n",
       "      <td>Golfshot: Golf GPS + Tee Times</td>\n",
       "      <td>2</td>\n",
       "    </tr>\n",
       "    <tr>\n",
       "      <th>302</th>\n",
       "      <td>Google</td>\n",
       "      <td>2</td>\n",
       "    </tr>\n",
       "    <tr>\n",
       "      <th>305</th>\n",
       "      <td>Google Analytics</td>\n",
       "      <td>2</td>\n",
       "    </tr>\n",
       "    <tr>\n",
       "      <th>311</th>\n",
       "      <td>Google Duo - High Quality Video Calls</td>\n",
       "      <td>2</td>\n",
       "    </tr>\n",
       "    <tr>\n",
       "      <th>797</th>\n",
       "      <td>wetter.com - Weather and Radar</td>\n",
       "      <td>2</td>\n",
       "    </tr>\n",
       "  </tbody>\n",
       "</table>\n",
       "<p>798 rows × 2 columns</p>\n",
       "</div>"
      ],
      "text/plain": [
       "                                                   App  Count\n",
       "570                                             ROBLOX      9\n",
       "102  CBS Sports App - Scores, News, Stats & Watch Live      8\n",
       "211                     Duolingo: Learn Languages Free      7\n",
       "218                                               ESPN      7\n",
       "6                                          8 Ball Pool      7\n",
       "..                                                 ...    ...\n",
       "301                     Golfshot: Golf GPS + Tee Times      2\n",
       "302                                             Google      2\n",
       "305                                   Google Analytics      2\n",
       "311              Google Duo - High Quality Video Calls      2\n",
       "797                     wetter.com - Weather and Radar      2\n",
       "\n",
       "[798 rows x 2 columns]"
      ]
     },
     "execution_count": 7,
     "metadata": {},
     "output_type": "execute_result"
    }
   ],
   "source": [
    "# Выведем все повторяющиеся приложения\n",
    "pd.DataFrame(apps.groupby('App').App.count().loc[apps.groupby('App').App.count() > 1])\\\n",
    "    .rename(columns={'App': 'Count'}).reset_index().sort_values(by='Count', ascending=False)"
   ]
  },
  {
   "cell_type": "markdown",
   "id": "978b8268",
   "metadata": {},
   "source": [
    "798 приложений появляются больше одного раза"
   ]
  },
  {
   "cell_type": "code",
   "execution_count": 8,
   "id": "cb6c0eb7",
   "metadata": {},
   "outputs": [
    {
     "data": {
      "text/html": [
       "<div>\n",
       "<style scoped>\n",
       "    .dataframe tbody tr th:only-of-type {\n",
       "        vertical-align: middle;\n",
       "    }\n",
       "\n",
       "    .dataframe tbody tr th {\n",
       "        vertical-align: top;\n",
       "    }\n",
       "\n",
       "    .dataframe thead th {\n",
       "        text-align: right;\n",
       "    }\n",
       "</style>\n",
       "<table border=\"1\" class=\"dataframe\">\n",
       "  <thead>\n",
       "    <tr style=\"text-align: right;\">\n",
       "      <th></th>\n",
       "      <th>App</th>\n",
       "      <th>Category</th>\n",
       "      <th>Rating</th>\n",
       "      <th>Reviews</th>\n",
       "      <th>Size</th>\n",
       "      <th>Installs</th>\n",
       "      <th>Type</th>\n",
       "      <th>Price</th>\n",
       "      <th>Content Rating</th>\n",
       "      <th>Genres</th>\n",
       "      <th>Last Updated</th>\n",
       "      <th>Current Ver</th>\n",
       "      <th>Android Ver</th>\n",
       "    </tr>\n",
       "  </thead>\n",
       "  <tbody>\n",
       "    <tr>\n",
       "      <th>1653</th>\n",
       "      <td>ROBLOX</td>\n",
       "      <td>GAME</td>\n",
       "      <td>4.5</td>\n",
       "      <td>4447388</td>\n",
       "      <td>67M</td>\n",
       "      <td>100,000,000+</td>\n",
       "      <td>Free</td>\n",
       "      <td>0</td>\n",
       "      <td>Everyone 10+</td>\n",
       "      <td>Adventure;Action &amp; Adventure</td>\n",
       "      <td>July 31, 2018</td>\n",
       "      <td>2.347.225742</td>\n",
       "      <td>4.1 and up</td>\n",
       "    </tr>\n",
       "    <tr>\n",
       "      <th>1701</th>\n",
       "      <td>ROBLOX</td>\n",
       "      <td>GAME</td>\n",
       "      <td>4.5</td>\n",
       "      <td>4447346</td>\n",
       "      <td>67M</td>\n",
       "      <td>100,000,000+</td>\n",
       "      <td>Free</td>\n",
       "      <td>0</td>\n",
       "      <td>Everyone 10+</td>\n",
       "      <td>Adventure;Action &amp; Adventure</td>\n",
       "      <td>July 31, 2018</td>\n",
       "      <td>2.347.225742</td>\n",
       "      <td>4.1 and up</td>\n",
       "    </tr>\n",
       "    <tr>\n",
       "      <th>1748</th>\n",
       "      <td>ROBLOX</td>\n",
       "      <td>GAME</td>\n",
       "      <td>4.5</td>\n",
       "      <td>4448791</td>\n",
       "      <td>67M</td>\n",
       "      <td>100,000,000+</td>\n",
       "      <td>Free</td>\n",
       "      <td>0</td>\n",
       "      <td>Everyone 10+</td>\n",
       "      <td>Adventure;Action &amp; Adventure</td>\n",
       "      <td>July 31, 2018</td>\n",
       "      <td>2.347.225742</td>\n",
       "      <td>4.1 and up</td>\n",
       "    </tr>\n",
       "    <tr>\n",
       "      <th>1841</th>\n",
       "      <td>ROBLOX</td>\n",
       "      <td>GAME</td>\n",
       "      <td>4.5</td>\n",
       "      <td>4449882</td>\n",
       "      <td>67M</td>\n",
       "      <td>100,000,000+</td>\n",
       "      <td>Free</td>\n",
       "      <td>0</td>\n",
       "      <td>Everyone 10+</td>\n",
       "      <td>Adventure;Action &amp; Adventure</td>\n",
       "      <td>July 31, 2018</td>\n",
       "      <td>2.347.225742</td>\n",
       "      <td>4.1 and up</td>\n",
       "    </tr>\n",
       "    <tr>\n",
       "      <th>1870</th>\n",
       "      <td>ROBLOX</td>\n",
       "      <td>GAME</td>\n",
       "      <td>4.5</td>\n",
       "      <td>4449910</td>\n",
       "      <td>67M</td>\n",
       "      <td>100,000,000+</td>\n",
       "      <td>Free</td>\n",
       "      <td>0</td>\n",
       "      <td>Everyone 10+</td>\n",
       "      <td>Adventure;Action &amp; Adventure</td>\n",
       "      <td>July 31, 2018</td>\n",
       "      <td>2.347.225742</td>\n",
       "      <td>4.1 and up</td>\n",
       "    </tr>\n",
       "    <tr>\n",
       "      <th>2016</th>\n",
       "      <td>ROBLOX</td>\n",
       "      <td>FAMILY</td>\n",
       "      <td>4.5</td>\n",
       "      <td>4449910</td>\n",
       "      <td>67M</td>\n",
       "      <td>100,000,000+</td>\n",
       "      <td>Free</td>\n",
       "      <td>0</td>\n",
       "      <td>Everyone 10+</td>\n",
       "      <td>Adventure;Action &amp; Adventure</td>\n",
       "      <td>July 31, 2018</td>\n",
       "      <td>2.347.225742</td>\n",
       "      <td>4.1 and up</td>\n",
       "    </tr>\n",
       "    <tr>\n",
       "      <th>2088</th>\n",
       "      <td>ROBLOX</td>\n",
       "      <td>FAMILY</td>\n",
       "      <td>4.5</td>\n",
       "      <td>4450855</td>\n",
       "      <td>67M</td>\n",
       "      <td>100,000,000+</td>\n",
       "      <td>Free</td>\n",
       "      <td>0</td>\n",
       "      <td>Everyone 10+</td>\n",
       "      <td>Adventure;Action &amp; Adventure</td>\n",
       "      <td>July 31, 2018</td>\n",
       "      <td>2.347.225742</td>\n",
       "      <td>4.1 and up</td>\n",
       "    </tr>\n",
       "    <tr>\n",
       "      <th>2206</th>\n",
       "      <td>ROBLOX</td>\n",
       "      <td>FAMILY</td>\n",
       "      <td>4.5</td>\n",
       "      <td>4450890</td>\n",
       "      <td>67M</td>\n",
       "      <td>100,000,000+</td>\n",
       "      <td>Free</td>\n",
       "      <td>0</td>\n",
       "      <td>Everyone 10+</td>\n",
       "      <td>Adventure;Action &amp; Adventure</td>\n",
       "      <td>July 31, 2018</td>\n",
       "      <td>2.347.225742</td>\n",
       "      <td>4.1 and up</td>\n",
       "    </tr>\n",
       "    <tr>\n",
       "      <th>4527</th>\n",
       "      <td>ROBLOX</td>\n",
       "      <td>FAMILY</td>\n",
       "      <td>4.5</td>\n",
       "      <td>4443407</td>\n",
       "      <td>67M</td>\n",
       "      <td>100,000,000+</td>\n",
       "      <td>Free</td>\n",
       "      <td>0</td>\n",
       "      <td>Everyone 10+</td>\n",
       "      <td>Adventure;Action &amp; Adventure</td>\n",
       "      <td>July 31, 2018</td>\n",
       "      <td>2.347.225742</td>\n",
       "      <td>4.1 and up</td>\n",
       "    </tr>\n",
       "  </tbody>\n",
       "</table>\n",
       "</div>"
      ],
      "text/plain": [
       "         App Category  Rating  Reviews Size      Installs  Type Price  \\\n",
       "1653  ROBLOX     GAME     4.5  4447388  67M  100,000,000+  Free     0   \n",
       "1701  ROBLOX     GAME     4.5  4447346  67M  100,000,000+  Free     0   \n",
       "1748  ROBLOX     GAME     4.5  4448791  67M  100,000,000+  Free     0   \n",
       "1841  ROBLOX     GAME     4.5  4449882  67M  100,000,000+  Free     0   \n",
       "1870  ROBLOX     GAME     4.5  4449910  67M  100,000,000+  Free     0   \n",
       "2016  ROBLOX   FAMILY     4.5  4449910  67M  100,000,000+  Free     0   \n",
       "2088  ROBLOX   FAMILY     4.5  4450855  67M  100,000,000+  Free     0   \n",
       "2206  ROBLOX   FAMILY     4.5  4450890  67M  100,000,000+  Free     0   \n",
       "4527  ROBLOX   FAMILY     4.5  4443407  67M  100,000,000+  Free     0   \n",
       "\n",
       "     Content Rating                        Genres   Last Updated  \\\n",
       "1653   Everyone 10+  Adventure;Action & Adventure  July 31, 2018   \n",
       "1701   Everyone 10+  Adventure;Action & Adventure  July 31, 2018   \n",
       "1748   Everyone 10+  Adventure;Action & Adventure  July 31, 2018   \n",
       "1841   Everyone 10+  Adventure;Action & Adventure  July 31, 2018   \n",
       "1870   Everyone 10+  Adventure;Action & Adventure  July 31, 2018   \n",
       "2016   Everyone 10+  Adventure;Action & Adventure  July 31, 2018   \n",
       "2088   Everyone 10+  Adventure;Action & Adventure  July 31, 2018   \n",
       "2206   Everyone 10+  Adventure;Action & Adventure  July 31, 2018   \n",
       "4527   Everyone 10+  Adventure;Action & Adventure  July 31, 2018   \n",
       "\n",
       "       Current Ver Android Ver  \n",
       "1653  2.347.225742  4.1 and up  \n",
       "1701  2.347.225742  4.1 and up  \n",
       "1748  2.347.225742  4.1 and up  \n",
       "1841  2.347.225742  4.1 and up  \n",
       "1870  2.347.225742  4.1 and up  \n",
       "2016  2.347.225742  4.1 and up  \n",
       "2088  2.347.225742  4.1 and up  \n",
       "2206  2.347.225742  4.1 and up  \n",
       "4527  2.347.225742  4.1 and up  "
      ]
     },
     "execution_count": 8,
     "metadata": {},
     "output_type": "execute_result"
    }
   ],
   "source": [
    "apps[apps.App == 'ROBLOX']"
   ]
  },
  {
   "cell_type": "code",
   "execution_count": 9,
   "id": "51aa22b9",
   "metadata": {},
   "outputs": [
    {
     "data": {
      "text/html": [
       "<div>\n",
       "<style scoped>\n",
       "    .dataframe tbody tr th:only-of-type {\n",
       "        vertical-align: middle;\n",
       "    }\n",
       "\n",
       "    .dataframe tbody tr th {\n",
       "        vertical-align: top;\n",
       "    }\n",
       "\n",
       "    .dataframe thead th {\n",
       "        text-align: right;\n",
       "    }\n",
       "</style>\n",
       "<table border=\"1\" class=\"dataframe\">\n",
       "  <thead>\n",
       "    <tr style=\"text-align: right;\">\n",
       "      <th></th>\n",
       "      <th>App</th>\n",
       "      <th>Category</th>\n",
       "      <th>Rating</th>\n",
       "      <th>Reviews</th>\n",
       "      <th>Size</th>\n",
       "      <th>Installs</th>\n",
       "      <th>Type</th>\n",
       "      <th>Price</th>\n",
       "      <th>Content Rating</th>\n",
       "      <th>Genres</th>\n",
       "      <th>Last Updated</th>\n",
       "      <th>Current Ver</th>\n",
       "      <th>Android Ver</th>\n",
       "    </tr>\n",
       "  </thead>\n",
       "  <tbody>\n",
       "    <tr>\n",
       "      <th>3234</th>\n",
       "      <td>Google</td>\n",
       "      <td>TOOLS</td>\n",
       "      <td>4.4</td>\n",
       "      <td>8033493</td>\n",
       "      <td>Varies with device</td>\n",
       "      <td>1,000,000,000+</td>\n",
       "      <td>Free</td>\n",
       "      <td>0</td>\n",
       "      <td>Everyone</td>\n",
       "      <td>Tools</td>\n",
       "      <td>August 3, 2018</td>\n",
       "      <td>Varies with device</td>\n",
       "      <td>Varies with device</td>\n",
       "    </tr>\n",
       "    <tr>\n",
       "      <th>4150</th>\n",
       "      <td>Google</td>\n",
       "      <td>TOOLS</td>\n",
       "      <td>4.4</td>\n",
       "      <td>8021623</td>\n",
       "      <td>Varies with device</td>\n",
       "      <td>1,000,000,000+</td>\n",
       "      <td>Free</td>\n",
       "      <td>0</td>\n",
       "      <td>Everyone</td>\n",
       "      <td>Tools</td>\n",
       "      <td>August 3, 2018</td>\n",
       "      <td>Varies with device</td>\n",
       "      <td>Varies with device</td>\n",
       "    </tr>\n",
       "  </tbody>\n",
       "</table>\n",
       "</div>"
      ],
      "text/plain": [
       "         App Category  Rating  Reviews                Size        Installs  \\\n",
       "3234  Google    TOOLS     4.4  8033493  Varies with device  1,000,000,000+   \n",
       "4150  Google    TOOLS     4.4  8021623  Varies with device  1,000,000,000+   \n",
       "\n",
       "      Type Price Content Rating Genres    Last Updated         Current Ver  \\\n",
       "3234  Free     0       Everyone  Tools  August 3, 2018  Varies with device   \n",
       "4150  Free     0       Everyone  Tools  August 3, 2018  Varies with device   \n",
       "\n",
       "             Android Ver  \n",
       "3234  Varies with device  \n",
       "4150  Varies with device  "
      ]
     },
     "execution_count": 9,
     "metadata": {},
     "output_type": "execute_result"
    }
   ],
   "source": [
    "apps[apps.App == 'Google']"
   ]
  },
  {
   "cell_type": "markdown",
   "id": "3a7f7801",
   "metadata": {},
   "source": [
    "Дубликаты приложений отличаются количеством отзывов, и некоторые еще категорией. Удалим дубликаты"
   ]
  },
  {
   "cell_type": "code",
   "execution_count": 10,
   "id": "447ec6e8",
   "metadata": {},
   "outputs": [],
   "source": [
    "apps.drop_duplicates(subset=['App'], keep='first', inplace=True)"
   ]
  },
  {
   "cell_type": "code",
   "execution_count": 11,
   "id": "6bfd1802",
   "metadata": {},
   "outputs": [
    {
     "data": {
      "text/plain": [
       "count                                               9660\n",
       "unique                                              9660\n",
       "top       Photo Editor & Candy Camera & Grid & ScrapBook\n",
       "freq                                                   1\n",
       "Name: App, dtype: object"
      ]
     },
     "execution_count": 11,
     "metadata": {},
     "output_type": "execute_result"
    }
   ],
   "source": [
    "# Перепроверим, что дубликатов не осталось\n",
    "apps.App.describe()"
   ]
  },
  {
   "cell_type": "markdown",
   "id": "b7a1d133",
   "metadata": {},
   "source": [
    "### Удаляем малоинформативные признаки"
   ]
  },
  {
   "cell_type": "code",
   "execution_count": 12,
   "id": "1b0dcea6",
   "metadata": {},
   "outputs": [
    {
     "data": {
      "text/html": [
       "<div>\n",
       "<style scoped>\n",
       "    .dataframe tbody tr th:only-of-type {\n",
       "        vertical-align: middle;\n",
       "    }\n",
       "\n",
       "    .dataframe tbody tr th {\n",
       "        vertical-align: top;\n",
       "    }\n",
       "\n",
       "    .dataframe thead th {\n",
       "        text-align: right;\n",
       "    }\n",
       "</style>\n",
       "<table border=\"1\" class=\"dataframe\">\n",
       "  <thead>\n",
       "    <tr style=\"text-align: right;\">\n",
       "      <th></th>\n",
       "      <th>App</th>\n",
       "      <th>Category</th>\n",
       "      <th>Rating</th>\n",
       "      <th>Reviews</th>\n",
       "      <th>Size</th>\n",
       "      <th>Installs</th>\n",
       "      <th>Type</th>\n",
       "      <th>Price</th>\n",
       "      <th>Content Rating</th>\n",
       "      <th>Genres</th>\n",
       "      <th>Last Updated</th>\n",
       "      <th>Current Ver</th>\n",
       "      <th>Android Ver</th>\n",
       "    </tr>\n",
       "  </thead>\n",
       "  <tbody>\n",
       "    <tr>\n",
       "      <th>0</th>\n",
       "      <td>Photo Editor &amp; Candy Camera &amp; Grid &amp; ScrapBook</td>\n",
       "      <td>ART_AND_DESIGN</td>\n",
       "      <td>4.1</td>\n",
       "      <td>159</td>\n",
       "      <td>19M</td>\n",
       "      <td>10,000+</td>\n",
       "      <td>Free</td>\n",
       "      <td>0</td>\n",
       "      <td>Everyone</td>\n",
       "      <td>Art &amp; Design</td>\n",
       "      <td>January 7, 2018</td>\n",
       "      <td>1.0.0</td>\n",
       "      <td>4.0.3 and up</td>\n",
       "    </tr>\n",
       "    <tr>\n",
       "      <th>1</th>\n",
       "      <td>Coloring book moana</td>\n",
       "      <td>ART_AND_DESIGN</td>\n",
       "      <td>3.9</td>\n",
       "      <td>967</td>\n",
       "      <td>14M</td>\n",
       "      <td>500,000+</td>\n",
       "      <td>Free</td>\n",
       "      <td>0</td>\n",
       "      <td>Everyone</td>\n",
       "      <td>Art &amp; Design;Pretend Play</td>\n",
       "      <td>January 15, 2018</td>\n",
       "      <td>2.0.0</td>\n",
       "      <td>4.0.3 and up</td>\n",
       "    </tr>\n",
       "    <tr>\n",
       "      <th>2</th>\n",
       "      <td>U Launcher Lite – FREE Live Cool Themes, Hide ...</td>\n",
       "      <td>ART_AND_DESIGN</td>\n",
       "      <td>4.7</td>\n",
       "      <td>87510</td>\n",
       "      <td>8.7M</td>\n",
       "      <td>5,000,000+</td>\n",
       "      <td>Free</td>\n",
       "      <td>0</td>\n",
       "      <td>Everyone</td>\n",
       "      <td>Art &amp; Design</td>\n",
       "      <td>August 1, 2018</td>\n",
       "      <td>1.2.4</td>\n",
       "      <td>4.0.3 and up</td>\n",
       "    </tr>\n",
       "    <tr>\n",
       "      <th>3</th>\n",
       "      <td>Sketch - Draw &amp; Paint</td>\n",
       "      <td>ART_AND_DESIGN</td>\n",
       "      <td>4.5</td>\n",
       "      <td>215644</td>\n",
       "      <td>25M</td>\n",
       "      <td>50,000,000+</td>\n",
       "      <td>Free</td>\n",
       "      <td>0</td>\n",
       "      <td>Teen</td>\n",
       "      <td>Art &amp; Design</td>\n",
       "      <td>June 8, 2018</td>\n",
       "      <td>Varies with device</td>\n",
       "      <td>4.2 and up</td>\n",
       "    </tr>\n",
       "    <tr>\n",
       "      <th>4</th>\n",
       "      <td>Pixel Draw - Number Art Coloring Book</td>\n",
       "      <td>ART_AND_DESIGN</td>\n",
       "      <td>4.3</td>\n",
       "      <td>967</td>\n",
       "      <td>2.8M</td>\n",
       "      <td>100,000+</td>\n",
       "      <td>Free</td>\n",
       "      <td>0</td>\n",
       "      <td>Everyone</td>\n",
       "      <td>Art &amp; Design;Creativity</td>\n",
       "      <td>June 20, 2018</td>\n",
       "      <td>1.1</td>\n",
       "      <td>4.4 and up</td>\n",
       "    </tr>\n",
       "  </tbody>\n",
       "</table>\n",
       "</div>"
      ],
      "text/plain": [
       "                                                 App        Category  Rating  \\\n",
       "0     Photo Editor & Candy Camera & Grid & ScrapBook  ART_AND_DESIGN     4.1   \n",
       "1                                Coloring book moana  ART_AND_DESIGN     3.9   \n",
       "2  U Launcher Lite – FREE Live Cool Themes, Hide ...  ART_AND_DESIGN     4.7   \n",
       "3                              Sketch - Draw & Paint  ART_AND_DESIGN     4.5   \n",
       "4              Pixel Draw - Number Art Coloring Book  ART_AND_DESIGN     4.3   \n",
       "\n",
       "  Reviews  Size     Installs  Type Price Content Rating  \\\n",
       "0     159   19M      10,000+  Free     0       Everyone   \n",
       "1     967   14M     500,000+  Free     0       Everyone   \n",
       "2   87510  8.7M   5,000,000+  Free     0       Everyone   \n",
       "3  215644   25M  50,000,000+  Free     0           Teen   \n",
       "4     967  2.8M     100,000+  Free     0       Everyone   \n",
       "\n",
       "                      Genres      Last Updated         Current Ver  \\\n",
       "0               Art & Design   January 7, 2018               1.0.0   \n",
       "1  Art & Design;Pretend Play  January 15, 2018               2.0.0   \n",
       "2               Art & Design    August 1, 2018               1.2.4   \n",
       "3               Art & Design      June 8, 2018  Varies with device   \n",
       "4    Art & Design;Creativity     June 20, 2018                 1.1   \n",
       "\n",
       "    Android Ver  \n",
       "0  4.0.3 and up  \n",
       "1  4.0.3 and up  \n",
       "2  4.0.3 and up  \n",
       "3    4.2 and up  \n",
       "4    4.4 and up  "
      ]
     },
     "execution_count": 12,
     "metadata": {},
     "output_type": "execute_result"
    }
   ],
   "source": [
    "apps.head()"
   ]
  },
  {
   "cell_type": "markdown",
   "id": "bd3b63b1",
   "metadata": {},
   "source": [
    "Удалим признаки \"Current Ver\", \"Last Updated\" и \"Android Ver\". Версия приложения ни о чем нам не говорит. Дата последнего обновления и версия андроида малоинформативны"
   ]
  },
  {
   "cell_type": "code",
   "execution_count": 13,
   "id": "a6496a07",
   "metadata": {},
   "outputs": [],
   "source": [
    "apps.drop(columns=['Current Ver', 'Android Ver', 'Last Updated'], inplace=True)"
   ]
  },
  {
   "cell_type": "markdown",
   "id": "148e99c7",
   "metadata": {},
   "source": [
    "Мы не знаем содержание отзывов, только их количество. Вряд ли с такой информацией получится сделать адекватных вывод о взаимосвязи отзывов с другими переменными. Поэтому столбец Reviews удалим"
   ]
  },
  {
   "cell_type": "code",
   "execution_count": 14,
   "id": "a3a61998",
   "metadata": {},
   "outputs": [],
   "source": [
    "apps.drop(columns=['Reviews'], inplace=True)"
   ]
  },
  {
   "cell_type": "markdown",
   "id": "0cb69ec5",
   "metadata": {},
   "source": [
    "### Избавляемся от Null значений"
   ]
  },
  {
   "cell_type": "code",
   "execution_count": 15,
   "id": "e3b5e9b4",
   "metadata": {},
   "outputs": [
    {
     "name": "stdout",
     "output_type": "stream",
     "text": [
      "<class 'pandas.core.frame.DataFrame'>\n",
      "Int64Index: 9660 entries, 0 to 10840\n",
      "Data columns (total 9 columns):\n",
      " #   Column          Non-Null Count  Dtype  \n",
      "---  ------          --------------  -----  \n",
      " 0   App             9660 non-null   object \n",
      " 1   Category        9660 non-null   object \n",
      " 2   Rating          8197 non-null   float64\n",
      " 3   Size            9660 non-null   object \n",
      " 4   Installs        9660 non-null   object \n",
      " 5   Type            9659 non-null   object \n",
      " 6   Price           9660 non-null   object \n",
      " 7   Content Rating  9659 non-null   object \n",
      " 8   Genres          9660 non-null   object \n",
      "dtypes: float64(1), object(8)\n",
      "memory usage: 754.7+ KB\n"
     ]
    }
   ],
   "source": [
    "apps.info()"
   ]
  },
  {
   "cell_type": "markdown",
   "id": "9aa335c4",
   "metadata": {},
   "source": [
    "Rating, Type и Content Rating имеют null значения"
   ]
  },
  {
   "cell_type": "code",
   "execution_count": 16,
   "id": "3752dd58",
   "metadata": {
    "scrolled": false
   },
   "outputs": [
    {
     "data": {
      "text/html": [
       "<div>\n",
       "<style scoped>\n",
       "    .dataframe tbody tr th:only-of-type {\n",
       "        vertical-align: middle;\n",
       "    }\n",
       "\n",
       "    .dataframe tbody tr th {\n",
       "        vertical-align: top;\n",
       "    }\n",
       "\n",
       "    .dataframe thead th {\n",
       "        text-align: right;\n",
       "    }\n",
       "</style>\n",
       "<table border=\"1\" class=\"dataframe\">\n",
       "  <thead>\n",
       "    <tr style=\"text-align: right;\">\n",
       "      <th></th>\n",
       "      <th>App</th>\n",
       "      <th>Category</th>\n",
       "      <th>Rating</th>\n",
       "      <th>Size</th>\n",
       "      <th>Installs</th>\n",
       "      <th>Type</th>\n",
       "      <th>Price</th>\n",
       "      <th>Content Rating</th>\n",
       "      <th>Genres</th>\n",
       "    </tr>\n",
       "  </thead>\n",
       "  <tbody>\n",
       "    <tr>\n",
       "      <th>23</th>\n",
       "      <td>Mcqueen Coloring pages</td>\n",
       "      <td>ART_AND_DESIGN</td>\n",
       "      <td>NaN</td>\n",
       "      <td>7.0M</td>\n",
       "      <td>100,000+</td>\n",
       "      <td>Free</td>\n",
       "      <td>0</td>\n",
       "      <td>Everyone</td>\n",
       "      <td>Art &amp; Design;Action &amp; Adventure</td>\n",
       "    </tr>\n",
       "    <tr>\n",
       "      <th>113</th>\n",
       "      <td>Wrinkles and rejuvenation</td>\n",
       "      <td>BEAUTY</td>\n",
       "      <td>NaN</td>\n",
       "      <td>5.7M</td>\n",
       "      <td>100,000+</td>\n",
       "      <td>Free</td>\n",
       "      <td>0</td>\n",
       "      <td>Everyone 10+</td>\n",
       "      <td>Beauty</td>\n",
       "    </tr>\n",
       "    <tr>\n",
       "      <th>123</th>\n",
       "      <td>Manicure - nail design</td>\n",
       "      <td>BEAUTY</td>\n",
       "      <td>NaN</td>\n",
       "      <td>3.7M</td>\n",
       "      <td>50,000+</td>\n",
       "      <td>Free</td>\n",
       "      <td>0</td>\n",
       "      <td>Everyone</td>\n",
       "      <td>Beauty</td>\n",
       "    </tr>\n",
       "    <tr>\n",
       "      <th>126</th>\n",
       "      <td>Skin Care and Natural Beauty</td>\n",
       "      <td>BEAUTY</td>\n",
       "      <td>NaN</td>\n",
       "      <td>7.4M</td>\n",
       "      <td>100,000+</td>\n",
       "      <td>Free</td>\n",
       "      <td>0</td>\n",
       "      <td>Teen</td>\n",
       "      <td>Beauty</td>\n",
       "    </tr>\n",
       "    <tr>\n",
       "      <th>129</th>\n",
       "      <td>Secrets of beauty, youth and health</td>\n",
       "      <td>BEAUTY</td>\n",
       "      <td>NaN</td>\n",
       "      <td>2.9M</td>\n",
       "      <td>10,000+</td>\n",
       "      <td>Free</td>\n",
       "      <td>0</td>\n",
       "      <td>Mature 17+</td>\n",
       "      <td>Beauty</td>\n",
       "    </tr>\n",
       "    <tr>\n",
       "      <th>...</th>\n",
       "      <td>...</td>\n",
       "      <td>...</td>\n",
       "      <td>...</td>\n",
       "      <td>...</td>\n",
       "      <td>...</td>\n",
       "      <td>...</td>\n",
       "      <td>...</td>\n",
       "      <td>...</td>\n",
       "      <td>...</td>\n",
       "    </tr>\n",
       "    <tr>\n",
       "      <th>10824</th>\n",
       "      <td>Cardio-FR</td>\n",
       "      <td>MEDICAL</td>\n",
       "      <td>NaN</td>\n",
       "      <td>82M</td>\n",
       "      <td>10,000+</td>\n",
       "      <td>Free</td>\n",
       "      <td>0</td>\n",
       "      <td>Everyone</td>\n",
       "      <td>Medical</td>\n",
       "    </tr>\n",
       "    <tr>\n",
       "      <th>10825</th>\n",
       "      <td>Naruto &amp; Boruto FR</td>\n",
       "      <td>SOCIAL</td>\n",
       "      <td>NaN</td>\n",
       "      <td>7.7M</td>\n",
       "      <td>100+</td>\n",
       "      <td>Free</td>\n",
       "      <td>0</td>\n",
       "      <td>Teen</td>\n",
       "      <td>Social</td>\n",
       "    </tr>\n",
       "    <tr>\n",
       "      <th>10831</th>\n",
       "      <td>payermonstationnement.fr</td>\n",
       "      <td>MAPS_AND_NAVIGATION</td>\n",
       "      <td>NaN</td>\n",
       "      <td>9.8M</td>\n",
       "      <td>5,000+</td>\n",
       "      <td>Free</td>\n",
       "      <td>0</td>\n",
       "      <td>Everyone</td>\n",
       "      <td>Maps &amp; Navigation</td>\n",
       "    </tr>\n",
       "    <tr>\n",
       "      <th>10835</th>\n",
       "      <td>FR Forms</td>\n",
       "      <td>BUSINESS</td>\n",
       "      <td>NaN</td>\n",
       "      <td>9.6M</td>\n",
       "      <td>10+</td>\n",
       "      <td>Free</td>\n",
       "      <td>0</td>\n",
       "      <td>Everyone</td>\n",
       "      <td>Business</td>\n",
       "    </tr>\n",
       "    <tr>\n",
       "      <th>10838</th>\n",
       "      <td>Parkinson Exercices FR</td>\n",
       "      <td>MEDICAL</td>\n",
       "      <td>NaN</td>\n",
       "      <td>9.5M</td>\n",
       "      <td>1,000+</td>\n",
       "      <td>Free</td>\n",
       "      <td>0</td>\n",
       "      <td>Everyone</td>\n",
       "      <td>Medical</td>\n",
       "    </tr>\n",
       "  </tbody>\n",
       "</table>\n",
       "<p>1463 rows × 9 columns</p>\n",
       "</div>"
      ],
      "text/plain": [
       "                                       App             Category  Rating  Size  \\\n",
       "23                  Mcqueen Coloring pages       ART_AND_DESIGN     NaN  7.0M   \n",
       "113              Wrinkles and rejuvenation               BEAUTY     NaN  5.7M   \n",
       "123                 Manicure - nail design               BEAUTY     NaN  3.7M   \n",
       "126           Skin Care and Natural Beauty               BEAUTY     NaN  7.4M   \n",
       "129    Secrets of beauty, youth and health               BEAUTY     NaN  2.9M   \n",
       "...                                    ...                  ...     ...   ...   \n",
       "10824                            Cardio-FR              MEDICAL     NaN   82M   \n",
       "10825                   Naruto & Boruto FR               SOCIAL     NaN  7.7M   \n",
       "10831             payermonstationnement.fr  MAPS_AND_NAVIGATION     NaN  9.8M   \n",
       "10835                             FR Forms             BUSINESS     NaN  9.6M   \n",
       "10838               Parkinson Exercices FR              MEDICAL     NaN  9.5M   \n",
       "\n",
       "       Installs  Type Price Content Rating                           Genres  \n",
       "23     100,000+  Free     0       Everyone  Art & Design;Action & Adventure  \n",
       "113    100,000+  Free     0   Everyone 10+                           Beauty  \n",
       "123     50,000+  Free     0       Everyone                           Beauty  \n",
       "126    100,000+  Free     0           Teen                           Beauty  \n",
       "129     10,000+  Free     0     Mature 17+                           Beauty  \n",
       "...         ...   ...   ...            ...                              ...  \n",
       "10824   10,000+  Free     0       Everyone                          Medical  \n",
       "10825      100+  Free     0           Teen                           Social  \n",
       "10831    5,000+  Free     0       Everyone                Maps & Navigation  \n",
       "10835       10+  Free     0       Everyone                         Business  \n",
       "10838    1,000+  Free     0       Everyone                          Medical  \n",
       "\n",
       "[1463 rows x 9 columns]"
      ]
     },
     "execution_count": 16,
     "metadata": {},
     "output_type": "execute_result"
    }
   ],
   "source": [
    "# Посмотрим на приложения без рейтинга\n",
    "apps[apps.Rating.isnull()]"
   ]
  },
  {
   "cell_type": "code",
   "execution_count": 17,
   "id": "87b57ec6",
   "metadata": {},
   "outputs": [
    {
     "name": "stdout",
     "output_type": "stream",
     "text": [
      "Приложения без рейтинга составляют 15.14%\n"
     ]
    }
   ],
   "source": [
    "print('Приложения без рейтинга составляют ', round(100 * apps[apps.Rating.isnull()].App.count() / apps.App.count(), 2),\n",
    "      '%', sep='')"
   ]
  },
  {
   "cell_type": "markdown",
   "id": "639c7648",
   "metadata": {},
   "source": [
    "Приложения без рейтинга имеют отличающиеся друг от друга категории, количества скачиваний и другие признаки, то есть отсутствие рейтинга не связано с каким-то конкретным значением того или иного признака"
   ]
  },
  {
   "cell_type": "markdown",
   "id": "892857f4",
   "metadata": {},
   "source": [
    "Приложения без рейтинга составляют немалую часть всех данных (15%), но их присутствие затруднит дальнейшую работу. Можно было бы заменить пропущенные данные средним значением рейтинга, но я предпочту удалить строки с пропусками"
   ]
  },
  {
   "cell_type": "code",
   "execution_count": 18,
   "id": "b7661ccd",
   "metadata": {},
   "outputs": [],
   "source": [
    "apps.drop(apps[apps.Rating.isnull()].index, inplace=True)"
   ]
  },
  {
   "cell_type": "code",
   "execution_count": 19,
   "id": "eba6d5f9",
   "metadata": {},
   "outputs": [
    {
     "data": {
      "text/html": [
       "<div>\n",
       "<style scoped>\n",
       "    .dataframe tbody tr th:only-of-type {\n",
       "        vertical-align: middle;\n",
       "    }\n",
       "\n",
       "    .dataframe tbody tr th {\n",
       "        vertical-align: top;\n",
       "    }\n",
       "\n",
       "    .dataframe thead th {\n",
       "        text-align: right;\n",
       "    }\n",
       "</style>\n",
       "<table border=\"1\" class=\"dataframe\">\n",
       "  <thead>\n",
       "    <tr style=\"text-align: right;\">\n",
       "      <th></th>\n",
       "      <th>App</th>\n",
       "      <th>Category</th>\n",
       "      <th>Rating</th>\n",
       "      <th>Size</th>\n",
       "      <th>Installs</th>\n",
       "      <th>Type</th>\n",
       "      <th>Price</th>\n",
       "      <th>Content Rating</th>\n",
       "      <th>Genres</th>\n",
       "    </tr>\n",
       "  </thead>\n",
       "  <tbody>\n",
       "  </tbody>\n",
       "</table>\n",
       "</div>"
      ],
      "text/plain": [
       "Empty DataFrame\n",
       "Columns: [App, Category, Rating, Size, Installs, Type, Price, Content Rating, Genres]\n",
       "Index: []"
      ]
     },
     "execution_count": 19,
     "metadata": {},
     "output_type": "execute_result"
    }
   ],
   "source": [
    "# Проверим, остались ли null значения\n",
    "apps[apps.Type.isnull()]"
   ]
  },
  {
   "cell_type": "code",
   "execution_count": 20,
   "id": "fe833910",
   "metadata": {},
   "outputs": [
    {
     "data": {
      "text/html": [
       "<div>\n",
       "<style scoped>\n",
       "    .dataframe tbody tr th:only-of-type {\n",
       "        vertical-align: middle;\n",
       "    }\n",
       "\n",
       "    .dataframe tbody tr th {\n",
       "        vertical-align: top;\n",
       "    }\n",
       "\n",
       "    .dataframe thead th {\n",
       "        text-align: right;\n",
       "    }\n",
       "</style>\n",
       "<table border=\"1\" class=\"dataframe\">\n",
       "  <thead>\n",
       "    <tr style=\"text-align: right;\">\n",
       "      <th></th>\n",
       "      <th>App</th>\n",
       "      <th>Category</th>\n",
       "      <th>Rating</th>\n",
       "      <th>Size</th>\n",
       "      <th>Installs</th>\n",
       "      <th>Type</th>\n",
       "      <th>Price</th>\n",
       "      <th>Content Rating</th>\n",
       "      <th>Genres</th>\n",
       "    </tr>\n",
       "  </thead>\n",
       "  <tbody>\n",
       "    <tr>\n",
       "      <th>10472</th>\n",
       "      <td>Life Made WI-Fi Touchscreen Photo Frame</td>\n",
       "      <td>1.9</td>\n",
       "      <td>19.0</td>\n",
       "      <td>1,000+</td>\n",
       "      <td>Free</td>\n",
       "      <td>0</td>\n",
       "      <td>Everyone</td>\n",
       "      <td>NaN</td>\n",
       "      <td>February 11, 2018</td>\n",
       "    </tr>\n",
       "  </tbody>\n",
       "</table>\n",
       "</div>"
      ],
      "text/plain": [
       "                                           App Category  Rating    Size  \\\n",
       "10472  Life Made WI-Fi Touchscreen Photo Frame      1.9    19.0  1,000+   \n",
       "\n",
       "      Installs Type     Price Content Rating             Genres  \n",
       "10472     Free    0  Everyone            NaN  February 11, 2018  "
      ]
     },
     "execution_count": 20,
     "metadata": {},
     "output_type": "execute_result"
    }
   ],
   "source": [
    "# Проверяем, есть ли приложения без Content Rating\n",
    "apps[apps['Content Rating'].isnull()]"
   ]
  },
  {
   "cell_type": "markdown",
   "id": "286eec8a",
   "metadata": {},
   "source": [
    "Приложение без Content Rating всего одно. Другие его признаки находятся не в тех колонках. Удалим это приложение"
   ]
  },
  {
   "cell_type": "code",
   "execution_count": 21,
   "id": "00cce10e",
   "metadata": {},
   "outputs": [],
   "source": [
    "apps.drop(apps.loc[apps.App == 'Life Made WI-Fi Touchscreen Photo Frame'].index, inplace=True)"
   ]
  },
  {
   "cell_type": "code",
   "execution_count": 22,
   "id": "30816794",
   "metadata": {},
   "outputs": [
    {
     "name": "stdout",
     "output_type": "stream",
     "text": [
      "<class 'pandas.core.frame.DataFrame'>\n",
      "Int64Index: 8196 entries, 0 to 10840\n",
      "Data columns (total 9 columns):\n",
      " #   Column          Non-Null Count  Dtype  \n",
      "---  ------          --------------  -----  \n",
      " 0   App             8196 non-null   object \n",
      " 1   Category        8196 non-null   object \n",
      " 2   Rating          8196 non-null   float64\n",
      " 3   Size            8196 non-null   object \n",
      " 4   Installs        8196 non-null   object \n",
      " 5   Type            8196 non-null   object \n",
      " 6   Price           8196 non-null   object \n",
      " 7   Content Rating  8196 non-null   object \n",
      " 8   Genres          8196 non-null   object \n",
      "dtypes: float64(1), object(8)\n",
      "memory usage: 640.3+ KB\n"
     ]
    }
   ],
   "source": [
    "# Перепроверим, остались ли в таблице null значения\n",
    "apps.info()"
   ]
  },
  {
   "cell_type": "markdown",
   "id": "c27ffbe1",
   "metadata": {},
   "source": [
    "### Форматируем данные"
   ]
  },
  {
   "cell_type": "code",
   "execution_count": 23,
   "id": "69379892",
   "metadata": {},
   "outputs": [
    {
     "data": {
      "text/plain": [
       "array(['ART_AND_DESIGN', 'AUTO_AND_VEHICLES', 'BEAUTY',\n",
       "       'BOOKS_AND_REFERENCE', 'BUSINESS', 'COMICS', 'COMMUNICATION',\n",
       "       'DATING', 'EDUCATION', 'ENTERTAINMENT', 'EVENTS', 'FINANCE',\n",
       "       'FOOD_AND_DRINK', 'HEALTH_AND_FITNESS', 'HOUSE_AND_HOME',\n",
       "       'LIBRARIES_AND_DEMO', 'LIFESTYLE', 'GAME', 'FAMILY', 'MEDICAL',\n",
       "       'SOCIAL', 'SHOPPING', 'PHOTOGRAPHY', 'SPORTS', 'TRAVEL_AND_LOCAL',\n",
       "       'TOOLS', 'PERSONALIZATION', 'PRODUCTIVITY', 'PARENTING', 'WEATHER',\n",
       "       'VIDEO_PLAYERS', 'NEWS_AND_MAGAZINES', 'MAPS_AND_NAVIGATION'],\n",
       "      dtype=object)"
      ]
     },
     "execution_count": 23,
     "metadata": {},
     "output_type": "execute_result"
    }
   ],
   "source": [
    "# Проверим категории на ошибки и опечатки\n",
    "apps.Category.unique()"
   ]
  },
  {
   "cell_type": "code",
   "execution_count": 24,
   "id": "9eee9b2c",
   "metadata": {},
   "outputs": [
    {
     "data": {
      "text/plain": [
       "Varies with device    1169\n",
       "14M                    149\n",
       "12M                    146\n",
       "11M                    144\n",
       "13M                    143\n",
       "                      ... \n",
       "383k                     1\n",
       "454k                     1\n",
       "812k                     1\n",
       "442k                     1\n",
       "619k                     1\n",
       "Name: Size, Length: 414, dtype: int64"
      ]
     },
     "execution_count": 24,
     "metadata": {},
     "output_type": "execute_result"
    }
   ],
   "source": [
    "# Посмотрим, какие значения Size бывают\n",
    "apps.Size.value_counts()"
   ]
  },
  {
   "cell_type": "markdown",
   "id": "c6a70025",
   "metadata": {},
   "source": [
    "Нужно сделать что-то с \"Varies from device\", а также конвертировать все значения в мегабайты. \"Varies\" заменим средним значением"
   ]
  },
  {
   "cell_type": "code",
   "execution_count": 25,
   "id": "68390036",
   "metadata": {},
   "outputs": [],
   "source": [
    "# Временно заменяем на NaN, чтобы посчитать среднее остальных значений\n",
    "apps.loc[apps.Size == 'Varies with device', 'Size'] = 'NaN'"
   ]
  },
  {
   "cell_type": "code",
   "execution_count": 26,
   "id": "3cf77b8e",
   "metadata": {},
   "outputs": [],
   "source": [
    "# Приводим все значения к одному формату\n",
    "apps.Size=apps.Size.str.replace('k','e+3')\n",
    "apps.Size=apps.Size.str.replace('M','e+6')"
   ]
  },
  {
   "cell_type": "code",
   "execution_count": 27,
   "id": "6584b11e",
   "metadata": {},
   "outputs": [
    {
     "data": {
      "text/plain": [
       "NaN       1169\n",
       "14e+6      149\n",
       "12e+6      146\n",
       "11e+6      144\n",
       "13e+6      143\n",
       "          ... \n",
       "383e+3       1\n",
       "454e+3       1\n",
       "812e+3       1\n",
       "442e+3       1\n",
       "619e+3       1\n",
       "Name: Size, Length: 414, dtype: int64"
      ]
     },
     "execution_count": 27,
     "metadata": {},
     "output_type": "execute_result"
    }
   ],
   "source": [
    "apps.Size.value_counts()"
   ]
  },
  {
   "cell_type": "code",
   "execution_count": 28,
   "id": "b8e7e42c",
   "metadata": {},
   "outputs": [],
   "source": [
    "# Конвертируем Size в числовой формат\n",
    "apps.Size = apps.Size.apply(lambda x: float(x))"
   ]
  },
  {
   "cell_type": "code",
   "execution_count": 29,
   "id": "ca15ba07",
   "metadata": {},
   "outputs": [],
   "source": [
    "# Заменяем пропущенные значения средним\n",
    "apps['Size'].fillna(apps.groupby('Category')['Size'].transform('mean'),inplace = True)"
   ]
  },
  {
   "cell_type": "code",
   "execution_count": 30,
   "id": "5ffd0c3d",
   "metadata": {},
   "outputs": [
    {
     "data": {
      "text/plain": [
       "0"
      ]
     },
     "execution_count": 30,
     "metadata": {},
     "output_type": "execute_result"
    }
   ],
   "source": [
    "# Проверяем, что не осталось пропущенных значений\n",
    "apps.Size.isnull().sum()"
   ]
  },
  {
   "cell_type": "code",
   "execution_count": 31,
   "id": "0dc9dc8d",
   "metadata": {},
   "outputs": [
    {
     "data": {
      "text/html": [
       "<div>\n",
       "<style scoped>\n",
       "    .dataframe tbody tr th:only-of-type {\n",
       "        vertical-align: middle;\n",
       "    }\n",
       "\n",
       "    .dataframe tbody tr th {\n",
       "        vertical-align: top;\n",
       "    }\n",
       "\n",
       "    .dataframe thead th {\n",
       "        text-align: right;\n",
       "    }\n",
       "</style>\n",
       "<table border=\"1\" class=\"dataframe\">\n",
       "  <thead>\n",
       "    <tr style=\"text-align: right;\">\n",
       "      <th></th>\n",
       "      <th>App</th>\n",
       "      <th>Category</th>\n",
       "      <th>Rating</th>\n",
       "      <th>Size</th>\n",
       "      <th>Installs</th>\n",
       "      <th>Type</th>\n",
       "      <th>Price</th>\n",
       "      <th>Content Rating</th>\n",
       "      <th>Genres</th>\n",
       "    </tr>\n",
       "  </thead>\n",
       "  <tbody>\n",
       "  </tbody>\n",
       "</table>\n",
       "</div>"
      ],
      "text/plain": [
       "Empty DataFrame\n",
       "Columns: [App, Category, Rating, Size, Installs, Type, Price, Content Rating, Genres]\n",
       "Index: []"
      ]
     },
     "execution_count": 31,
     "metadata": {},
     "output_type": "execute_result"
    }
   ],
   "source": [
    "# Проверяем, что нет приложений размером 0\n",
    "apps[apps.Size == 0]"
   ]
  },
  {
   "cell_type": "code",
   "execution_count": 32,
   "id": "20ccec01",
   "metadata": {},
   "outputs": [],
   "source": [
    "# Выражаем размер всех приложений в Мб\n",
    "apps.Size = apps.Size.apply(lambda x: round(x / 1000000, 2))"
   ]
  },
  {
   "cell_type": "code",
   "execution_count": 33,
   "id": "43c562f7",
   "metadata": {},
   "outputs": [],
   "source": [
    "# Указываем в названии столбца единицы измерения\n",
    "apps.rename(columns={'Size': 'Size_Mb'}, inplace=True)"
   ]
  },
  {
   "cell_type": "code",
   "execution_count": 34,
   "id": "dedbedf0",
   "metadata": {},
   "outputs": [
    {
     "data": {
      "text/html": [
       "<div>\n",
       "<style scoped>\n",
       "    .dataframe tbody tr th:only-of-type {\n",
       "        vertical-align: middle;\n",
       "    }\n",
       "\n",
       "    .dataframe tbody tr th {\n",
       "        vertical-align: top;\n",
       "    }\n",
       "\n",
       "    .dataframe thead th {\n",
       "        text-align: right;\n",
       "    }\n",
       "</style>\n",
       "<table border=\"1\" class=\"dataframe\">\n",
       "  <thead>\n",
       "    <tr style=\"text-align: right;\">\n",
       "      <th></th>\n",
       "      <th>App</th>\n",
       "      <th>Category</th>\n",
       "      <th>Rating</th>\n",
       "      <th>Size_Mb</th>\n",
       "      <th>Installs</th>\n",
       "      <th>Type</th>\n",
       "      <th>Price</th>\n",
       "      <th>Content Rating</th>\n",
       "      <th>Genres</th>\n",
       "    </tr>\n",
       "  </thead>\n",
       "  <tbody>\n",
       "    <tr>\n",
       "      <th>7517</th>\n",
       "      <td>CL Notifier</td>\n",
       "      <td>TOOLS</td>\n",
       "      <td>5.0</td>\n",
       "      <td>3.20</td>\n",
       "      <td>100+</td>\n",
       "      <td>Free</td>\n",
       "      <td>0</td>\n",
       "      <td>Teen</td>\n",
       "      <td>Tools</td>\n",
       "    </tr>\n",
       "    <tr>\n",
       "      <th>5416</th>\n",
       "      <td>PES 2018 PRO EVOLUTION SOCCER</td>\n",
       "      <td>SPORTS</td>\n",
       "      <td>4.4</td>\n",
       "      <td>26.00</td>\n",
       "      <td>10,000,000+</td>\n",
       "      <td>Free</td>\n",
       "      <td>0</td>\n",
       "      <td>Everyone</td>\n",
       "      <td>Sports</td>\n",
       "    </tr>\n",
       "    <tr>\n",
       "      <th>8429</th>\n",
       "      <td>Avenger Legends</td>\n",
       "      <td>FAMILY</td>\n",
       "      <td>4.0</td>\n",
       "      <td>94.00</td>\n",
       "      <td>100,000+</td>\n",
       "      <td>Free</td>\n",
       "      <td>0</td>\n",
       "      <td>Everyone</td>\n",
       "      <td>Role Playing</td>\n",
       "    </tr>\n",
       "    <tr>\n",
       "      <th>8484</th>\n",
       "      <td>dk Verk</td>\n",
       "      <td>BUSINESS</td>\n",
       "      <td>4.4</td>\n",
       "      <td>31.00</td>\n",
       "      <td>500+</td>\n",
       "      <td>Free</td>\n",
       "      <td>0</td>\n",
       "      <td>Everyone</td>\n",
       "      <td>Business</td>\n",
       "    </tr>\n",
       "    <tr>\n",
       "      <th>3689</th>\n",
       "      <td>VPlayer</td>\n",
       "      <td>VIDEO_PLAYERS</td>\n",
       "      <td>3.6</td>\n",
       "      <td>15.84</td>\n",
       "      <td>1,000,000+</td>\n",
       "      <td>Free</td>\n",
       "      <td>0</td>\n",
       "      <td>Everyone</td>\n",
       "      <td>Video Players &amp; Editors</td>\n",
       "    </tr>\n",
       "    <tr>\n",
       "      <th>4082</th>\n",
       "      <td>Greeting Cards &amp; Wishes</td>\n",
       "      <td>SOCIAL</td>\n",
       "      <td>4.5</td>\n",
       "      <td>12.00</td>\n",
       "      <td>500,000+</td>\n",
       "      <td>Free</td>\n",
       "      <td>0</td>\n",
       "      <td>Everyone</td>\n",
       "      <td>Social</td>\n",
       "    </tr>\n",
       "    <tr>\n",
       "      <th>5293</th>\n",
       "      <td>Counter Terrorist Attack</td>\n",
       "      <td>GAME</td>\n",
       "      <td>3.9</td>\n",
       "      <td>43.00</td>\n",
       "      <td>10,000,000+</td>\n",
       "      <td>Free</td>\n",
       "      <td>0</td>\n",
       "      <td>Teen</td>\n",
       "      <td>Action</td>\n",
       "    </tr>\n",
       "    <tr>\n",
       "      <th>6155</th>\n",
       "      <td>BG Future School</td>\n",
       "      <td>FAMILY</td>\n",
       "      <td>4.9</td>\n",
       "      <td>10.00</td>\n",
       "      <td>100+</td>\n",
       "      <td>Free</td>\n",
       "      <td>0</td>\n",
       "      <td>Everyone</td>\n",
       "      <td>Education</td>\n",
       "    </tr>\n",
       "    <tr>\n",
       "      <th>4971</th>\n",
       "      <td>WhatsFake Pro (Ad free)</td>\n",
       "      <td>SOCIAL</td>\n",
       "      <td>4.2</td>\n",
       "      <td>9.40</td>\n",
       "      <td>5,000+</td>\n",
       "      <td>Paid</td>\n",
       "      <td>$0.99</td>\n",
       "      <td>Everyone</td>\n",
       "      <td>Social</td>\n",
       "    </tr>\n",
       "    <tr>\n",
       "      <th>7717</th>\n",
       "      <td>CQ</td>\n",
       "      <td>NEWS_AND_MAGAZINES</td>\n",
       "      <td>3.7</td>\n",
       "      <td>3.40</td>\n",
       "      <td>1,000+</td>\n",
       "      <td>Free</td>\n",
       "      <td>0</td>\n",
       "      <td>Everyone 10+</td>\n",
       "      <td>News &amp; Magazines</td>\n",
       "    </tr>\n",
       "  </tbody>\n",
       "</table>\n",
       "</div>"
      ],
      "text/plain": [
       "                                App            Category  Rating  Size_Mb  \\\n",
       "7517                    CL Notifier               TOOLS     5.0     3.20   \n",
       "5416  PES 2018 PRO EVOLUTION SOCCER              SPORTS     4.4    26.00   \n",
       "8429                Avenger Legends              FAMILY     4.0    94.00   \n",
       "8484                        dk Verk            BUSINESS     4.4    31.00   \n",
       "3689                        VPlayer       VIDEO_PLAYERS     3.6    15.84   \n",
       "4082        Greeting Cards & Wishes              SOCIAL     4.5    12.00   \n",
       "5293       Counter Terrorist Attack                GAME     3.9    43.00   \n",
       "6155               BG Future School              FAMILY     4.9    10.00   \n",
       "4971        WhatsFake Pro (Ad free)              SOCIAL     4.2     9.40   \n",
       "7717                             CQ  NEWS_AND_MAGAZINES     3.7     3.40   \n",
       "\n",
       "         Installs  Type  Price Content Rating                   Genres  \n",
       "7517         100+  Free      0           Teen                    Tools  \n",
       "5416  10,000,000+  Free      0       Everyone                   Sports  \n",
       "8429     100,000+  Free      0       Everyone             Role Playing  \n",
       "8484         500+  Free      0       Everyone                 Business  \n",
       "3689   1,000,000+  Free      0       Everyone  Video Players & Editors  \n",
       "4082     500,000+  Free      0       Everyone                   Social  \n",
       "5293  10,000,000+  Free      0           Teen                   Action  \n",
       "6155         100+  Free      0       Everyone                Education  \n",
       "4971       5,000+  Paid  $0.99       Everyone                   Social  \n",
       "7717       1,000+  Free      0   Everyone 10+         News & Magazines  "
      ]
     },
     "execution_count": 34,
     "metadata": {},
     "output_type": "execute_result"
    }
   ],
   "source": [
    "apps.sample(10)"
   ]
  },
  {
   "cell_type": "code",
   "execution_count": 35,
   "id": "6a448ef3",
   "metadata": {},
   "outputs": [
    {
     "data": {
      "text/plain": [
       "1,000,000+        1415\n",
       "100,000+          1094\n",
       "10,000+            987\n",
       "10,000,000+        937\n",
       "1,000+             697\n",
       "5,000,000+         607\n",
       "500,000+           504\n",
       "50,000+            457\n",
       "5,000+             425\n",
       "100+               303\n",
       "50,000,000+        202\n",
       "500+               199\n",
       "100,000,000+       188\n",
       "10+                 69\n",
       "50+                 56\n",
       "500,000,000+        24\n",
       "1,000,000,000+      20\n",
       "5+                   9\n",
       "1+                   3\n",
       "Name: Installs, dtype: int64"
      ]
     },
     "execution_count": 35,
     "metadata": {},
     "output_type": "execute_result"
    }
   ],
   "source": [
    "# Далее посмотрим, какие значения может принимать Installs\n",
    "apps.Installs.value_counts()"
   ]
  },
  {
   "cell_type": "markdown",
   "id": "15a3ef1d",
   "metadata": {},
   "source": [
    "Конвертируем значения скачиваний в числовой формат"
   ]
  },
  {
   "cell_type": "code",
   "execution_count": 36,
   "id": "36daed1a",
   "metadata": {},
   "outputs": [],
   "source": [
    "apps.Installs=apps.Installs.apply(lambda x: x.strip('+'))\n",
    "apps.Installs=apps.Installs.apply(lambda x: x.replace(',',''))"
   ]
  },
  {
   "cell_type": "code",
   "execution_count": 37,
   "id": "490ea3e1",
   "metadata": {},
   "outputs": [],
   "source": [
    "apps.Installs=pd.to_numeric(apps.Installs)"
   ]
  },
  {
   "cell_type": "code",
   "execution_count": 38,
   "id": "7b51feff",
   "metadata": {},
   "outputs": [
    {
     "data": {
      "text/plain": [
       "1000000       1415\n",
       "100000        1094\n",
       "10000          987\n",
       "10000000       937\n",
       "1000           697\n",
       "5000000        607\n",
       "500000         504\n",
       "50000          457\n",
       "5000           425\n",
       "100            303\n",
       "50000000       202\n",
       "500            199\n",
       "100000000      188\n",
       "10              69\n",
       "50              56\n",
       "500000000       24\n",
       "1000000000      20\n",
       "5                9\n",
       "1                3\n",
       "Name: Installs, dtype: int64"
      ]
     },
     "execution_count": 38,
     "metadata": {},
     "output_type": "execute_result"
    }
   ],
   "source": [
    "apps.Installs.value_counts()"
   ]
  },
  {
   "cell_type": "markdown",
   "id": "94fb1c5c",
   "metadata": {},
   "source": [
    "Понятно, что новые значения - определенная условность, т.к. изначально кол-ва скачиваний по сути были разбиты на бакеты, значения в которых несколько превышали те, которые есть сейчас. Конвертация в числовой формат нужна для будущего анализа, чтобы можно было сравнивать значения скачиваний различных приложений между собой"
   ]
  },
  {
   "cell_type": "code",
   "execution_count": 39,
   "id": "1324eaae",
   "metadata": {},
   "outputs": [
    {
     "data": {
      "text/plain": [
       "Free    7592\n",
       "Paid     604\n",
       "Name: Type, dtype: int64"
      ]
     },
     "execution_count": 39,
     "metadata": {},
     "output_type": "execute_result"
    }
   ],
   "source": [
    "# Посмотрим, какие значения есть в Type\n",
    "apps.Type.value_counts()"
   ]
  },
  {
   "cell_type": "code",
   "execution_count": 40,
   "id": "db063053",
   "metadata": {},
   "outputs": [
    {
     "data": {
      "text/plain": [
       "0          7592\n",
       "$2.99       109\n",
       "$0.99       104\n",
       "$4.99        68\n",
       "$1.99        59\n",
       "           ... \n",
       "$1.59         1\n",
       "$6.49         1\n",
       "$1.29         1\n",
       "$299.99       1\n",
       "$1.20         1\n",
       "Name: Price, Length: 73, dtype: int64"
      ]
     },
     "execution_count": 40,
     "metadata": {},
     "output_type": "execute_result"
    }
   ],
   "source": [
    "# Изучим значения в Price\n",
    "apps.Price.value_counts()"
   ]
  },
  {
   "cell_type": "markdown",
   "id": "61f17aff",
   "metadata": {},
   "source": [
    "Конвертируем стоимость в числовой формат"
   ]
  },
  {
   "cell_type": "code",
   "execution_count": 41,
   "id": "b65d86f6",
   "metadata": {},
   "outputs": [],
   "source": [
    "apps.Price=apps.Price.apply(lambda x: x.strip('$'))"
   ]
  },
  {
   "cell_type": "code",
   "execution_count": 42,
   "id": "d20d82b3",
   "metadata": {},
   "outputs": [],
   "source": [
    "apps.Price=pd.to_numeric(apps.Price)"
   ]
  },
  {
   "cell_type": "markdown",
   "id": "81680320",
   "metadata": {},
   "source": [
    "Проверим, есть ли приложения типа \"Free\" с ценой > 0 и наоборот"
   ]
  },
  {
   "cell_type": "code",
   "execution_count": 43,
   "id": "d9aed67d",
   "metadata": {},
   "outputs": [
    {
     "data": {
      "text/html": [
       "<div>\n",
       "<style scoped>\n",
       "    .dataframe tbody tr th:only-of-type {\n",
       "        vertical-align: middle;\n",
       "    }\n",
       "\n",
       "    .dataframe tbody tr th {\n",
       "        vertical-align: top;\n",
       "    }\n",
       "\n",
       "    .dataframe thead th {\n",
       "        text-align: right;\n",
       "    }\n",
       "</style>\n",
       "<table border=\"1\" class=\"dataframe\">\n",
       "  <thead>\n",
       "    <tr style=\"text-align: right;\">\n",
       "      <th></th>\n",
       "      <th>App</th>\n",
       "      <th>Category</th>\n",
       "      <th>Rating</th>\n",
       "      <th>Size_Mb</th>\n",
       "      <th>Installs</th>\n",
       "      <th>Type</th>\n",
       "      <th>Price</th>\n",
       "      <th>Content Rating</th>\n",
       "      <th>Genres</th>\n",
       "    </tr>\n",
       "  </thead>\n",
       "  <tbody>\n",
       "  </tbody>\n",
       "</table>\n",
       "</div>"
      ],
      "text/plain": [
       "Empty DataFrame\n",
       "Columns: [App, Category, Rating, Size_Mb, Installs, Type, Price, Content Rating, Genres]\n",
       "Index: []"
      ]
     },
     "execution_count": 43,
     "metadata": {},
     "output_type": "execute_result"
    }
   ],
   "source": [
    "apps[(apps.Type == 'Free') & (apps.Price > 0)]"
   ]
  },
  {
   "cell_type": "code",
   "execution_count": 44,
   "id": "9475f0b2",
   "metadata": {},
   "outputs": [
    {
     "data": {
      "text/html": [
       "<div>\n",
       "<style scoped>\n",
       "    .dataframe tbody tr th:only-of-type {\n",
       "        vertical-align: middle;\n",
       "    }\n",
       "\n",
       "    .dataframe tbody tr th {\n",
       "        vertical-align: top;\n",
       "    }\n",
       "\n",
       "    .dataframe thead th {\n",
       "        text-align: right;\n",
       "    }\n",
       "</style>\n",
       "<table border=\"1\" class=\"dataframe\">\n",
       "  <thead>\n",
       "    <tr style=\"text-align: right;\">\n",
       "      <th></th>\n",
       "      <th>App</th>\n",
       "      <th>Category</th>\n",
       "      <th>Rating</th>\n",
       "      <th>Size_Mb</th>\n",
       "      <th>Installs</th>\n",
       "      <th>Type</th>\n",
       "      <th>Price</th>\n",
       "      <th>Content Rating</th>\n",
       "      <th>Genres</th>\n",
       "    </tr>\n",
       "  </thead>\n",
       "  <tbody>\n",
       "  </tbody>\n",
       "</table>\n",
       "</div>"
      ],
      "text/plain": [
       "Empty DataFrame\n",
       "Columns: [App, Category, Rating, Size_Mb, Installs, Type, Price, Content Rating, Genres]\n",
       "Index: []"
      ]
     },
     "execution_count": 44,
     "metadata": {},
     "output_type": "execute_result"
    }
   ],
   "source": [
    "apps[(apps.Type == 'Paid') & (apps.Price == 0)]"
   ]
  },
  {
   "cell_type": "code",
   "execution_count": 45,
   "id": "b933b4d7",
   "metadata": {},
   "outputs": [
    {
     "data": {
      "text/html": [
       "<div>\n",
       "<style scoped>\n",
       "    .dataframe tbody tr th:only-of-type {\n",
       "        vertical-align: middle;\n",
       "    }\n",
       "\n",
       "    .dataframe tbody tr th {\n",
       "        vertical-align: top;\n",
       "    }\n",
       "\n",
       "    .dataframe thead th {\n",
       "        text-align: right;\n",
       "    }\n",
       "</style>\n",
       "<table border=\"1\" class=\"dataframe\">\n",
       "  <thead>\n",
       "    <tr style=\"text-align: right;\">\n",
       "      <th></th>\n",
       "      <th>App</th>\n",
       "      <th>Category</th>\n",
       "      <th>Rating</th>\n",
       "      <th>Size_Mb</th>\n",
       "      <th>Installs</th>\n",
       "      <th>Type</th>\n",
       "      <th>Price</th>\n",
       "      <th>Content Rating</th>\n",
       "      <th>Genres</th>\n",
       "    </tr>\n",
       "  </thead>\n",
       "  <tbody>\n",
       "  </tbody>\n",
       "</table>\n",
       "</div>"
      ],
      "text/plain": [
       "Empty DataFrame\n",
       "Columns: [App, Category, Rating, Size_Mb, Installs, Type, Price, Content Rating, Genres]\n",
       "Index: []"
      ]
     },
     "execution_count": 45,
     "metadata": {},
     "output_type": "execute_result"
    }
   ],
   "source": [
    "# Проверим, есть ли приложения с отрицательной ценой\n",
    "apps[(apps.Type == 'Paid') & (apps.Price < 0)]"
   ]
  },
  {
   "cell_type": "code",
   "execution_count": 46,
   "id": "f1e5c177",
   "metadata": {},
   "outputs": [
    {
     "data": {
      "text/plain": [
       "Everyone           6618\n",
       "Teen                912\n",
       "Mature 17+          357\n",
       "Everyone 10+        305\n",
       "Adults only 18+       3\n",
       "Unrated               1\n",
       "Name: Content Rating, dtype: int64"
      ]
     },
     "execution_count": 46,
     "metadata": {},
     "output_type": "execute_result"
    }
   ],
   "source": [
    "# Посмотрим значения Content Rating\n",
    "apps['Content Rating'].value_counts()"
   ]
  },
  {
   "cell_type": "markdown",
   "id": "1b2f890f",
   "metadata": {},
   "source": [
    "Уберем пробел в названии столбца, чтобы к нему можно было в будущем обращаться через точку, и чтобы у названий столбцов сохранялся общий стиль"
   ]
  },
  {
   "cell_type": "code",
   "execution_count": 47,
   "id": "7a47142c",
   "metadata": {},
   "outputs": [],
   "source": [
    "apps.rename(columns={'Content Rating' : 'Content_Rating'}, inplace=True)"
   ]
  },
  {
   "cell_type": "code",
   "execution_count": 48,
   "id": "fb17d76c",
   "metadata": {},
   "outputs": [
    {
     "data": {
      "text/plain": [
       "array(['Art & Design', 'Art & Design;Pretend Play',\n",
       "       'Art & Design;Creativity', 'Auto & Vehicles', 'Beauty',\n",
       "       'Books & Reference', 'Business', 'Comics', 'Comics;Creativity',\n",
       "       'Communication', 'Dating', 'Education;Education', 'Education',\n",
       "       'Education;Creativity', 'Education;Music & Video',\n",
       "       'Education;Action & Adventure', 'Education;Pretend Play',\n",
       "       'Education;Brain Games', 'Entertainment',\n",
       "       'Entertainment;Music & Video', 'Entertainment;Brain Games',\n",
       "       'Entertainment;Creativity', 'Events', 'Finance', 'Food & Drink',\n",
       "       'Health & Fitness', 'House & Home', 'Libraries & Demo',\n",
       "       'Lifestyle', 'Lifestyle;Pretend Play',\n",
       "       'Adventure;Action & Adventure', 'Arcade', 'Casual', 'Card',\n",
       "       'Casual;Pretend Play', 'Action', 'Strategy', 'Puzzle', 'Sports',\n",
       "       'Music', 'Word', 'Racing', 'Casual;Creativity',\n",
       "       'Casual;Action & Adventure', 'Simulation', 'Adventure', 'Board',\n",
       "       'Trivia', 'Role Playing', 'Simulation;Education',\n",
       "       'Action;Action & Adventure', 'Casual;Brain Games',\n",
       "       'Simulation;Action & Adventure', 'Educational;Creativity',\n",
       "       'Puzzle;Brain Games', 'Educational;Education',\n",
       "       'Educational;Brain Games', 'Educational;Pretend Play',\n",
       "       'Entertainment;Education', 'Casual;Education',\n",
       "       'Music;Music & Video', 'Racing;Action & Adventure',\n",
       "       'Arcade;Pretend Play', 'Role Playing;Action & Adventure',\n",
       "       'Simulation;Pretend Play', 'Puzzle;Creativity',\n",
       "       'Sports;Action & Adventure', 'Educational;Action & Adventure',\n",
       "       'Arcade;Action & Adventure', 'Entertainment;Action & Adventure',\n",
       "       'Puzzle;Action & Adventure', 'Strategy;Action & Adventure',\n",
       "       'Music & Audio;Music & Video', 'Health & Fitness;Education',\n",
       "       'Adventure;Education', 'Board;Brain Games',\n",
       "       'Board;Action & Adventure', 'Board;Pretend Play',\n",
       "       'Casual;Music & Video', 'Role Playing;Pretend Play',\n",
       "       'Entertainment;Pretend Play', 'Video Players & Editors;Creativity',\n",
       "       'Card;Action & Adventure', 'Medical', 'Social', 'Shopping',\n",
       "       'Photography', 'Travel & Local',\n",
       "       'Travel & Local;Action & Adventure', 'Tools', 'Tools;Education',\n",
       "       'Personalization', 'Productivity', 'Parenting',\n",
       "       'Parenting;Music & Video', 'Parenting;Brain Games',\n",
       "       'Parenting;Education', 'Weather', 'Video Players & Editors',\n",
       "       'Video Players & Editors;Music & Video', 'News & Magazines',\n",
       "       'Maps & Navigation', 'Health & Fitness;Action & Adventure',\n",
       "       'Educational', 'Casino', 'Adventure;Brain Games',\n",
       "       'Lifestyle;Education', 'Books & Reference;Education',\n",
       "       'Puzzle;Education', 'Role Playing;Brain Games',\n",
       "       'Strategy;Education', 'Racing;Pretend Play',\n",
       "       'Communication;Creativity', 'Strategy;Creativity'], dtype=object)"
      ]
     },
     "execution_count": 48,
     "metadata": {},
     "output_type": "execute_result"
    }
   ],
   "source": [
    "# Заглянем в Genres\n",
    "apps.Genres.unique()"
   ]
  },
  {
   "cell_type": "markdown",
   "id": "5cb0d8dc",
   "metadata": {},
   "source": [
    "Большинство приложений имеют в столбце Genres два жанра. Поэтому разделим столбец на два"
   ]
  },
  {
   "cell_type": "code",
   "execution_count": 49,
   "id": "9220b59b",
   "metadata": {},
   "outputs": [],
   "source": [
    "primary = apps.Genres.apply(lambda x: x.split(';')[0])\n",
    "apps['Primary_Genres'] = primary"
   ]
  },
  {
   "cell_type": "code",
   "execution_count": 50,
   "id": "bdc58cf6",
   "metadata": {},
   "outputs": [],
   "source": [
    "secondary = apps.Genres.apply(lambda x: x.split(';')[-1])\n",
    "apps['Secondary_Genres'] = secondary"
   ]
  },
  {
   "cell_type": "code",
   "execution_count": 51,
   "id": "f86fd00d",
   "metadata": {},
   "outputs": [],
   "source": [
    "# Удалим старый столбец\n",
    "apps.drop(columns=['Genres'], inplace=True)"
   ]
  },
  {
   "cell_type": "code",
   "execution_count": 52,
   "id": "a4818db3",
   "metadata": {},
   "outputs": [
    {
     "data": {
      "text/html": [
       "<div>\n",
       "<style scoped>\n",
       "    .dataframe tbody tr th:only-of-type {\n",
       "        vertical-align: middle;\n",
       "    }\n",
       "\n",
       "    .dataframe tbody tr th {\n",
       "        vertical-align: top;\n",
       "    }\n",
       "\n",
       "    .dataframe thead th {\n",
       "        text-align: right;\n",
       "    }\n",
       "</style>\n",
       "<table border=\"1\" class=\"dataframe\">\n",
       "  <thead>\n",
       "    <tr style=\"text-align: right;\">\n",
       "      <th></th>\n",
       "      <th>App</th>\n",
       "      <th>Category</th>\n",
       "      <th>Rating</th>\n",
       "      <th>Size_Mb</th>\n",
       "      <th>Installs</th>\n",
       "      <th>Type</th>\n",
       "      <th>Price</th>\n",
       "      <th>Content_Rating</th>\n",
       "      <th>Primary_Genres</th>\n",
       "      <th>Secondary_Genres</th>\n",
       "    </tr>\n",
       "  </thead>\n",
       "  <tbody>\n",
       "    <tr>\n",
       "      <th>0</th>\n",
       "      <td>Photo Editor &amp; Candy Camera &amp; Grid &amp; ScrapBook</td>\n",
       "      <td>ART_AND_DESIGN</td>\n",
       "      <td>4.1</td>\n",
       "      <td>19.0</td>\n",
       "      <td>10000</td>\n",
       "      <td>Free</td>\n",
       "      <td>0.0</td>\n",
       "      <td>Everyone</td>\n",
       "      <td>Art &amp; Design</td>\n",
       "      <td>Art &amp; Design</td>\n",
       "    </tr>\n",
       "    <tr>\n",
       "      <th>1</th>\n",
       "      <td>Coloring book moana</td>\n",
       "      <td>ART_AND_DESIGN</td>\n",
       "      <td>3.9</td>\n",
       "      <td>14.0</td>\n",
       "      <td>500000</td>\n",
       "      <td>Free</td>\n",
       "      <td>0.0</td>\n",
       "      <td>Everyone</td>\n",
       "      <td>Art &amp; Design</td>\n",
       "      <td>Pretend Play</td>\n",
       "    </tr>\n",
       "    <tr>\n",
       "      <th>2</th>\n",
       "      <td>U Launcher Lite – FREE Live Cool Themes, Hide ...</td>\n",
       "      <td>ART_AND_DESIGN</td>\n",
       "      <td>4.7</td>\n",
       "      <td>8.7</td>\n",
       "      <td>5000000</td>\n",
       "      <td>Free</td>\n",
       "      <td>0.0</td>\n",
       "      <td>Everyone</td>\n",
       "      <td>Art &amp; Design</td>\n",
       "      <td>Art &amp; Design</td>\n",
       "    </tr>\n",
       "    <tr>\n",
       "      <th>3</th>\n",
       "      <td>Sketch - Draw &amp; Paint</td>\n",
       "      <td>ART_AND_DESIGN</td>\n",
       "      <td>4.5</td>\n",
       "      <td>25.0</td>\n",
       "      <td>50000000</td>\n",
       "      <td>Free</td>\n",
       "      <td>0.0</td>\n",
       "      <td>Teen</td>\n",
       "      <td>Art &amp; Design</td>\n",
       "      <td>Art &amp; Design</td>\n",
       "    </tr>\n",
       "    <tr>\n",
       "      <th>4</th>\n",
       "      <td>Pixel Draw - Number Art Coloring Book</td>\n",
       "      <td>ART_AND_DESIGN</td>\n",
       "      <td>4.3</td>\n",
       "      <td>2.8</td>\n",
       "      <td>100000</td>\n",
       "      <td>Free</td>\n",
       "      <td>0.0</td>\n",
       "      <td>Everyone</td>\n",
       "      <td>Art &amp; Design</td>\n",
       "      <td>Creativity</td>\n",
       "    </tr>\n",
       "  </tbody>\n",
       "</table>\n",
       "</div>"
      ],
      "text/plain": [
       "                                                 App        Category  Rating  \\\n",
       "0     Photo Editor & Candy Camera & Grid & ScrapBook  ART_AND_DESIGN     4.1   \n",
       "1                                Coloring book moana  ART_AND_DESIGN     3.9   \n",
       "2  U Launcher Lite – FREE Live Cool Themes, Hide ...  ART_AND_DESIGN     4.7   \n",
       "3                              Sketch - Draw & Paint  ART_AND_DESIGN     4.5   \n",
       "4              Pixel Draw - Number Art Coloring Book  ART_AND_DESIGN     4.3   \n",
       "\n",
       "   Size_Mb  Installs  Type  Price Content_Rating Primary_Genres  \\\n",
       "0     19.0     10000  Free    0.0       Everyone   Art & Design   \n",
       "1     14.0    500000  Free    0.0       Everyone   Art & Design   \n",
       "2      8.7   5000000  Free    0.0       Everyone   Art & Design   \n",
       "3     25.0  50000000  Free    0.0           Teen   Art & Design   \n",
       "4      2.8    100000  Free    0.0       Everyone   Art & Design   \n",
       "\n",
       "  Secondary_Genres  \n",
       "0     Art & Design  \n",
       "1     Pretend Play  \n",
       "2     Art & Design  \n",
       "3     Art & Design  \n",
       "4       Creativity  "
      ]
     },
     "execution_count": 52,
     "metadata": {},
     "output_type": "execute_result"
    }
   ],
   "source": [
    "apps.head()"
   ]
  },
  {
   "cell_type": "code",
   "execution_count": 53,
   "id": "cb9fe439",
   "metadata": {},
   "outputs": [
    {
     "data": {
      "text/plain": [
       "Tools                      718\n",
       "Entertainment              502\n",
       "Education                  498\n",
       "Action                     304\n",
       "Lifestyle                  302\n",
       "Finance                    302\n",
       "Productivity               301\n",
       "Personalization            298\n",
       "Medical                    290\n",
       "Sports                     270\n",
       "Business                   263\n",
       "Photography                263\n",
       "Communication              257\n",
       "Health & Fitness           246\n",
       "Casual                     217\n",
       "News & Magazines           204\n",
       "Social                     203\n",
       "Simulation                 200\n",
       "Travel & Local             187\n",
       "Arcade                     185\n",
       "Shopping                   180\n",
       "Books & Reference          171\n",
       "Video Players & Editors    150\n",
       "Dating                     134\n",
       "Puzzle                     123\n",
       "Maps & Navigation          118\n",
       "Role Playing               111\n",
       "Racing                     103\n",
       "Strategy                    95\n",
       "Food & Drink                94\n",
       "Educational                 93\n",
       "Adventure                   78\n",
       "Auto & Vehicles             73\n",
       "Weather                     72\n",
       "Libraries & Demo            64\n",
       "Art & Design                62\n",
       "House & Home                62\n",
       "Board                       57\n",
       "Comics                      54\n",
       "Parenting                   50\n",
       "Card                        46\n",
       "Events                      45\n",
       "Beauty                      42\n",
       "Casino                      37\n",
       "Trivia                      28\n",
       "Word                        22\n",
       "Music                       21\n",
       "Music & Audio                1\n",
       "Name: Primary_Genres, dtype: int64"
      ]
     },
     "execution_count": 53,
     "metadata": {},
     "output_type": "execute_result"
    }
   ],
   "source": [
    "# Изучим значения Primary_Genres\n",
    "apps.Primary_Genres.value_counts()"
   ]
  },
  {
   "cell_type": "code",
   "execution_count": 54,
   "id": "a9089269",
   "metadata": {},
   "outputs": [
    {
     "data": {
      "text/html": [
       "<div>\n",
       "<style scoped>\n",
       "    .dataframe tbody tr th:only-of-type {\n",
       "        vertical-align: middle;\n",
       "    }\n",
       "\n",
       "    .dataframe tbody tr th {\n",
       "        vertical-align: top;\n",
       "    }\n",
       "\n",
       "    .dataframe thead th {\n",
       "        text-align: right;\n",
       "    }\n",
       "</style>\n",
       "<table border=\"1\" class=\"dataframe\">\n",
       "  <thead>\n",
       "    <tr style=\"text-align: right;\">\n",
       "      <th></th>\n",
       "      <th>App</th>\n",
       "      <th>Category</th>\n",
       "      <th>Rating</th>\n",
       "      <th>Size_Mb</th>\n",
       "      <th>Installs</th>\n",
       "      <th>Type</th>\n",
       "      <th>Price</th>\n",
       "      <th>Content_Rating</th>\n",
       "      <th>Primary_Genres</th>\n",
       "      <th>Secondary_Genres</th>\n",
       "    </tr>\n",
       "  </thead>\n",
       "  <tbody>\n",
       "    <tr>\n",
       "      <th>2142</th>\n",
       "      <td>Toy Guitar with songs for kids</td>\n",
       "      <td>FAMILY</td>\n",
       "      <td>4.3</td>\n",
       "      <td>9.8</td>\n",
       "      <td>500000</td>\n",
       "      <td>Free</td>\n",
       "      <td>0.0</td>\n",
       "      <td>Everyone</td>\n",
       "      <td>Music &amp; Audio</td>\n",
       "      <td>Music &amp; Video</td>\n",
       "    </tr>\n",
       "  </tbody>\n",
       "</table>\n",
       "</div>"
      ],
      "text/plain": [
       "                                 App Category  Rating  Size_Mb  Installs  \\\n",
       "2142  Toy Guitar with songs for kids   FAMILY     4.3      9.8    500000   \n",
       "\n",
       "      Type  Price Content_Rating Primary_Genres Secondary_Genres  \n",
       "2142  Free    0.0       Everyone  Music & Audio    Music & Video  "
      ]
     },
     "execution_count": 54,
     "metadata": {},
     "output_type": "execute_result"
    }
   ],
   "source": [
    "apps[apps.Primary_Genres == 'Music & Audio']"
   ]
  },
  {
   "cell_type": "markdown",
   "id": "658021dc",
   "metadata": {},
   "source": [
    "Приложение с жанром Music & Audio представлено в единственном числе и по своему смыслу соответствует уже существующему жанру Music. Поэтому сменим его жанр на Music"
   ]
  },
  {
   "cell_type": "code",
   "execution_count": 55,
   "id": "4be36cc0",
   "metadata": {},
   "outputs": [],
   "source": [
    "apps.loc[apps.Primary_Genres == 'Music & Audio', 'Primary_Genres'] = 'Music'"
   ]
  },
  {
   "cell_type": "markdown",
   "id": "e524eed1",
   "metadata": {},
   "source": [
    "Сравним значения в столбцах Category, Primary_Genres и Secondary_Genres"
   ]
  },
  {
   "cell_type": "code",
   "execution_count": 56,
   "id": "38a78d8b",
   "metadata": {},
   "outputs": [
    {
     "data": {
      "text/plain": [
       "FAMILY             1608\n",
       "GAME                912\n",
       "TOOLS               718\n",
       "FINANCE             302\n",
       "PRODUCTIVITY        301\n",
       "LIFESTYLE           301\n",
       "PERSONALIZATION     298\n",
       "MEDICAL             290\n",
       "BUSINESS            263\n",
       "PHOTOGRAPHY         263\n",
       "Name: Category, dtype: int64"
      ]
     },
     "execution_count": 56,
     "metadata": {},
     "output_type": "execute_result"
    }
   ],
   "source": [
    "apps.Category.value_counts().head(10)"
   ]
  },
  {
   "cell_type": "code",
   "execution_count": 57,
   "id": "4d11d7cb",
   "metadata": {},
   "outputs": [
    {
     "data": {
      "text/plain": [
       "Tools              718\n",
       "Entertainment      502\n",
       "Education          498\n",
       "Action             304\n",
       "Lifestyle          302\n",
       "Finance            302\n",
       "Productivity       301\n",
       "Personalization    298\n",
       "Medical            290\n",
       "Sports             270\n",
       "Name: Primary_Genres, dtype: int64"
      ]
     },
     "execution_count": 57,
     "metadata": {},
     "output_type": "execute_result"
    }
   ],
   "source": [
    "apps.Primary_Genres.value_counts().head(10)"
   ]
  },
  {
   "cell_type": "code",
   "execution_count": 58,
   "id": "55682150",
   "metadata": {},
   "outputs": [
    {
     "data": {
      "text/plain": [
       "Tools              717\n",
       "Education          518\n",
       "Entertainment      471\n",
       "Finance            302\n",
       "Productivity       301\n",
       "Lifestyle          300\n",
       "Personalization    298\n",
       "Action             292\n",
       "Medical            290\n",
       "Sports             266\n",
       "Name: Secondary_Genres, dtype: int64"
      ]
     },
     "execution_count": 58,
     "metadata": {},
     "output_type": "execute_result"
    }
   ],
   "source": [
    "apps.Secondary_Genres.value_counts().head(10)"
   ]
  },
  {
   "cell_type": "markdown",
   "id": "51bfd862",
   "metadata": {},
   "source": [
    "Значения столбцов Category, Primary_Genres и Secondary_Genres очень похожи и могут совпадать для определенных приложений. Поэтому удалим столбцы Primary_Genres и Secondary_Genres"
   ]
  },
  {
   "cell_type": "code",
   "execution_count": 59,
   "id": "098a1213",
   "metadata": {},
   "outputs": [],
   "source": [
    "apps.drop(columns=['Primary_Genres'], inplace=True)"
   ]
  },
  {
   "cell_type": "code",
   "execution_count": 60,
   "id": "f4afac93",
   "metadata": {},
   "outputs": [],
   "source": [
    "apps.drop(columns=['Secondary_Genres'], inplace=True)"
   ]
  },
  {
   "cell_type": "markdown",
   "id": "c44ef70b",
   "metadata": {},
   "source": [
    "### Итоговая таблица иммет следующий вид:"
   ]
  },
  {
   "cell_type": "code",
   "execution_count": 61,
   "id": "49c6bf6a",
   "metadata": {},
   "outputs": [
    {
     "data": {
      "text/html": [
       "<div>\n",
       "<style scoped>\n",
       "    .dataframe tbody tr th:only-of-type {\n",
       "        vertical-align: middle;\n",
       "    }\n",
       "\n",
       "    .dataframe tbody tr th {\n",
       "        vertical-align: top;\n",
       "    }\n",
       "\n",
       "    .dataframe thead th {\n",
       "        text-align: right;\n",
       "    }\n",
       "</style>\n",
       "<table border=\"1\" class=\"dataframe\">\n",
       "  <thead>\n",
       "    <tr style=\"text-align: right;\">\n",
       "      <th></th>\n",
       "      <th>App</th>\n",
       "      <th>Category</th>\n",
       "      <th>Rating</th>\n",
       "      <th>Size_Mb</th>\n",
       "      <th>Installs</th>\n",
       "      <th>Type</th>\n",
       "      <th>Price</th>\n",
       "      <th>Content_Rating</th>\n",
       "    </tr>\n",
       "  </thead>\n",
       "  <tbody>\n",
       "    <tr>\n",
       "      <th>10810</th>\n",
       "      <td>Fr Lupupa Sermons</td>\n",
       "      <td>BUSINESS</td>\n",
       "      <td>4.8</td>\n",
       "      <td>21.0</td>\n",
       "      <td>100</td>\n",
       "      <td>Free</td>\n",
       "      <td>0.00</td>\n",
       "      <td>Everyone</td>\n",
       "    </tr>\n",
       "    <tr>\n",
       "      <th>10491</th>\n",
       "      <td>Toyota Cruisers &amp; Trucks Mag</td>\n",
       "      <td>TRAVEL_AND_LOCAL</td>\n",
       "      <td>4.5</td>\n",
       "      <td>8.0</td>\n",
       "      <td>500</td>\n",
       "      <td>Free</td>\n",
       "      <td>0.00</td>\n",
       "      <td>Everyone</td>\n",
       "    </tr>\n",
       "    <tr>\n",
       "      <th>10487</th>\n",
       "      <td>Driving n Parking School 2017</td>\n",
       "      <td>FAMILY</td>\n",
       "      <td>4.5</td>\n",
       "      <td>46.0</td>\n",
       "      <td>1000</td>\n",
       "      <td>Free</td>\n",
       "      <td>0.00</td>\n",
       "      <td>Everyone</td>\n",
       "    </tr>\n",
       "    <tr>\n",
       "      <th>5777</th>\n",
       "      <td>F05WatchFace for Android Wear</td>\n",
       "      <td>PRODUCTIVITY</td>\n",
       "      <td>3.9</td>\n",
       "      <td>5.9</td>\n",
       "      <td>1000</td>\n",
       "      <td>Paid</td>\n",
       "      <td>0.99</td>\n",
       "      <td>Everyone</td>\n",
       "    </tr>\n",
       "    <tr>\n",
       "      <th>7075</th>\n",
       "      <td>Inwestor mobile</td>\n",
       "      <td>FINANCE</td>\n",
       "      <td>3.2</td>\n",
       "      <td>7.2</td>\n",
       "      <td>10000</td>\n",
       "      <td>Free</td>\n",
       "      <td>0.00</td>\n",
       "      <td>Everyone</td>\n",
       "    </tr>\n",
       "    <tr>\n",
       "      <th>4702</th>\n",
       "      <td>V Bucks ProTips New</td>\n",
       "      <td>SOCIAL</td>\n",
       "      <td>4.7</td>\n",
       "      <td>3.6</td>\n",
       "      <td>1000</td>\n",
       "      <td>Free</td>\n",
       "      <td>0.00</td>\n",
       "      <td>Everyone</td>\n",
       "    </tr>\n",
       "    <tr>\n",
       "      <th>4891</th>\n",
       "      <td>30 Day AB Challenge - Lumowell</td>\n",
       "      <td>HEALTH_AND_FITNESS</td>\n",
       "      <td>4.8</td>\n",
       "      <td>40.0</td>\n",
       "      <td>10000</td>\n",
       "      <td>Free</td>\n",
       "      <td>0.00</td>\n",
       "      <td>Everyone</td>\n",
       "    </tr>\n",
       "    <tr>\n",
       "      <th>4731</th>\n",
       "      <td>Flashlight Free w/ compass</td>\n",
       "      <td>TOOLS</td>\n",
       "      <td>4.0</td>\n",
       "      <td>1.9</td>\n",
       "      <td>10000</td>\n",
       "      <td>Free</td>\n",
       "      <td>0.00</td>\n",
       "      <td>Everyone</td>\n",
       "    </tr>\n",
       "    <tr>\n",
       "      <th>6773</th>\n",
       "      <td>BT Camera</td>\n",
       "      <td>PHOTOGRAPHY</td>\n",
       "      <td>3.3</td>\n",
       "      <td>6.6</td>\n",
       "      <td>500000</td>\n",
       "      <td>Free</td>\n",
       "      <td>0.00</td>\n",
       "      <td>Everyone</td>\n",
       "    </tr>\n",
       "    <tr>\n",
       "      <th>9106</th>\n",
       "      <td>DZ Popup Video Player</td>\n",
       "      <td>VIDEO_PLAYERS</td>\n",
       "      <td>4.5</td>\n",
       "      <td>4.5</td>\n",
       "      <td>5000</td>\n",
       "      <td>Free</td>\n",
       "      <td>0.00</td>\n",
       "      <td>Everyone</td>\n",
       "    </tr>\n",
       "  </tbody>\n",
       "</table>\n",
       "</div>"
      ],
      "text/plain": [
       "                                  App            Category  Rating  Size_Mb  \\\n",
       "10810               Fr Lupupa Sermons            BUSINESS     4.8     21.0   \n",
       "10491    Toyota Cruisers & Trucks Mag    TRAVEL_AND_LOCAL     4.5      8.0   \n",
       "10487   Driving n Parking School 2017              FAMILY     4.5     46.0   \n",
       "5777    F05WatchFace for Android Wear        PRODUCTIVITY     3.9      5.9   \n",
       "7075                  Inwestor mobile             FINANCE     3.2      7.2   \n",
       "4702              V Bucks ProTips New              SOCIAL     4.7      3.6   \n",
       "4891   30 Day AB Challenge - Lumowell  HEALTH_AND_FITNESS     4.8     40.0   \n",
       "4731       Flashlight Free w/ compass               TOOLS     4.0      1.9   \n",
       "6773                        BT Camera         PHOTOGRAPHY     3.3      6.6   \n",
       "9106            DZ Popup Video Player       VIDEO_PLAYERS     4.5      4.5   \n",
       "\n",
       "       Installs  Type  Price Content_Rating  \n",
       "10810       100  Free   0.00       Everyone  \n",
       "10491       500  Free   0.00       Everyone  \n",
       "10487      1000  Free   0.00       Everyone  \n",
       "5777       1000  Paid   0.99       Everyone  \n",
       "7075      10000  Free   0.00       Everyone  \n",
       "4702       1000  Free   0.00       Everyone  \n",
       "4891      10000  Free   0.00       Everyone  \n",
       "4731      10000  Free   0.00       Everyone  \n",
       "6773     500000  Free   0.00       Everyone  \n",
       "9106       5000  Free   0.00       Everyone  "
      ]
     },
     "execution_count": 61,
     "metadata": {},
     "output_type": "execute_result"
    }
   ],
   "source": [
    "apps.sample(10)"
   ]
  },
  {
   "cell_type": "markdown",
   "id": "d9e793cb",
   "metadata": {},
   "source": [
    "# Разведочный анализ данных"
   ]
  },
  {
   "cell_type": "markdown",
   "id": "0b6f6c9e",
   "metadata": {},
   "source": [
    "## Количественные признаки"
   ]
  },
  {
   "cell_type": "markdown",
   "id": "e2f03e99",
   "metadata": {},
   "source": [
    "### Pairplot для количественных признаков"
   ]
  },
  {
   "cell_type": "code",
   "execution_count": 62,
   "id": "ba29e189",
   "metadata": {},
   "outputs": [
    {
     "data": {
      "image/png": "[encoded data removed]",
      "text/plain": [
       "<Figure size 1000x1000 with 14 Axes>"
      ]
     },
     "metadata": {},
     "output_type": "display_data"
    }
   ],
   "source": [
    "sns.pairplot(apps, corner=True, diag_kind='kde', plot_kws={'color': '#5c847c'})\n",
    "plt.show()"
   ]
  },
  {
   "cell_type": "markdown",
   "id": "a3926e9f",
   "metadata": {},
   "source": [
    "#### Все количественные признаки распределены не нормально"
   ]
  },
  {
   "cell_type": "markdown",
   "id": "bb934431",
   "metadata": {},
   "source": [
    "### Посмотрим, как количественные признаки коррелируют друг с другом"
   ]
  },
  {
   "cell_type": "markdown",
   "id": "43a14416",
   "metadata": {},
   "source": [
    "Посчитаем коэффициенты корреляции Пирсона и Спирмена для количественных признаков"
   ]
  },
  {
   "cell_type": "code",
   "execution_count": 63,
   "id": "deb2db98",
   "metadata": {},
   "outputs": [
    {
     "data": {
      "image/png": "[encoded data removed]",
      "text/plain": [
       "<Figure size 640x480 with 2 Axes>"
      ]
     },
     "metadata": {},
     "output_type": "display_data"
    }
   ],
   "source": [
    "sns.heatmap(apps.corr(method='pearson'), annot=True, cmap=sns.cubehelix_palette(66, start=.5, rot=-.75)[31:])\n",
    "plt.show()"
   ]
  },
  {
   "cell_type": "code",
   "execution_count": 64,
   "id": "a14f8e4b",
   "metadata": {},
   "outputs": [
    {
     "data": {
      "image/png": "[encoded data removed]",
      "text/plain": [
       "<Figure size 640x480 with 2 Axes>"
      ]
     },
     "metadata": {},
     "output_type": "display_data"
    }
   ],
   "source": [
    "sns.heatmap(apps.corr(method='spearman'), annot=True, cmap=sns.cubehelix_palette(66, start=.5, rot=-.75)[31:])\n",
    "plt.show()"
   ]
  },
  {
   "cell_type": "markdown",
   "id": "06e5d3c6",
   "metadata": {},
   "source": [
    "Оба коэффициента показывают достаточно слабую взаимосвязь между всеми переменными"
   ]
  },
  {
   "cell_type": "markdown",
   "id": "6aae54c5",
   "metadata": {},
   "source": [
    "Исключение составляет корреляция Спирмена для признаков \"Installs\" и \"Price\" (-0.27), и \"Size_Mb\" и \"Installs\" (0.32). Т.к. значимую корреляцию показал только коэф. Спирмена, взаимосвязь для этих пар переменных является нелинейной"
   ]
  },
  {
   "cell_type": "markdown",
   "id": "2fab2c84",
   "metadata": {},
   "source": [
    "Взаимосвязь между кол-вом установок  и ценой можно легко объяснить: бесплатные приложения скачивают чаще, чем платные, а среди платных, чем дороже приложение, тем меньше людей хотят/могут его купить"
   ]
  },
  {
   "cell_type": "markdown",
   "id": "d5b7111f",
   "metadata": {},
   "source": [
    "Про связь размера приложения и кол-ва его установок пока что ничего с уверенностью сказать нельзя"
   ]
  },
  {
   "cell_type": "markdown",
   "id": "7f579407",
   "metadata": {},
   "source": [
    "## Категориальные признаки"
   ]
  },
  {
   "cell_type": "markdown",
   "id": "da1463ef",
   "metadata": {},
   "source": [
    "### Category"
   ]
  },
  {
   "cell_type": "code",
   "execution_count": 65,
   "id": "a3d9fc2c",
   "metadata": {},
   "outputs": [
    {
     "data": {
      "image/png": "[encoded data removed]",
      "text/plain": [
       "<Figure size 640x480 with 1 Axes>"
      ]
     },
     "metadata": {},
     "output_type": "display_data"
    }
   ],
   "source": [
    "sns.countplot(y=apps.Category, order=apps['Category'].value_counts().index)\n",
    "plt.tight_layout()\n",
    "plt.xlabel('Количество')\n",
    "plt.show()"
   ]
  },
  {
   "cell_type": "markdown",
   "id": "b2b735ea",
   "metadata": {},
   "source": [
    "#### Больше всего приложений в категориях Family, Game и Tools"
   ]
  },
  {
   "cell_type": "markdown",
   "id": "bfcdfb0a",
   "metadata": {},
   "source": [
    "### Type (Free/Paid)"
   ]
  },
  {
   "cell_type": "code",
   "execution_count": 66,
   "id": "861d503b",
   "metadata": {
    "scrolled": false
   },
   "outputs": [
    {
     "data": {
      "image/png": "[encoded data removed]",
      "text/plain": [
       "<Figure size 640x480 with 1 Axes>"
      ]
     },
     "metadata": {},
     "output_type": "display_data"
    }
   ],
   "source": [
    "patches, texts, autotexts = plt.pie(apps['Type'].value_counts(sort=True),\n",
    "                            labels=apps['Type'].value_counts(sort=True).index, autopct='%1.1f%%',\n",
    "                            textprops={'color': 'white'}, colors=['#81b2a9', '#6e948c'])\n",
    "for text in texts:\n",
    "    text.set_color('black')"
   ]
  },
  {
   "cell_type": "markdown",
   "id": "53d5cb7e",
   "metadata": {},
   "source": [
    "#### Бесплатные приложения сильно преобладают на рынке"
   ]
  },
  {
   "cell_type": "markdown",
   "id": "e565133f",
   "metadata": {},
   "source": [
    "### Content Rating"
   ]
  },
  {
   "cell_type": "code",
   "execution_count": 67,
   "id": "21037b6a",
   "metadata": {},
   "outputs": [
    {
     "data": {
      "image/png": "[encoded data removed]",
      "text/plain": [
       "<Figure size 640x480 with 1 Axes>"
      ]
     },
     "metadata": {},
     "output_type": "display_data"
    }
   ],
   "source": [
    "sns.countplot(y=apps.Content_Rating, order=apps['Content_Rating'].value_counts().index)\n",
    "plt.xlabel('Количество')\n",
    "plt.xscale('log')"
   ]
  },
  {
   "cell_type": "markdown",
   "id": "c562b161",
   "metadata": {},
   "source": [
    "#### На рынке преобладают приложения для всех возрастов (Everyone)"
   ]
  },
  {
   "cell_type": "markdown",
   "id": "c0baa2c8",
   "metadata": {},
   "source": [
    "### Installs"
   ]
  },
  {
   "cell_type": "code",
   "execution_count": 68,
   "id": "6e7b9fe0",
   "metadata": {},
   "outputs": [
    {
     "data": {
      "image/png": "[encoded data removed]",
      "text/plain": [
       "<Figure size 640x480 with 1 Axes>"
      ]
     },
     "metadata": {},
     "output_type": "display_data"
    }
   ],
   "source": [
    "sns.histplot(apps.Installs, bins=15, linewidth=0)\n",
    "plt.xscale('log')\n",
    "plt.ylabel(None)\n",
    "plt.show()"
   ]
  },
  {
   "cell_type": "code",
   "execution_count": 69,
   "id": "8fd7e893",
   "metadata": {},
   "outputs": [
    {
     "data": {
      "text/plain": [
       "97.16935090287946"
      ]
     },
     "execution_count": 69,
     "metadata": {},
     "output_type": "execute_result"
    }
   ],
   "source": [
    "# % приложений с кол-вом установок < 10^8\n",
    "100 * apps[apps.Installs < 100000000].App.count() / apps.App.count()"
   ]
  },
  {
   "cell_type": "markdown",
   "id": "468a4f93",
   "metadata": {},
   "source": [
    "#### Большую часть приложений установили менее 10^8 раз"
   ]
  },
  {
   "cell_type": "markdown",
   "id": "54b915be",
   "metadata": {},
   "source": [
    "## Взаимосвязи переменных"
   ]
  },
  {
   "cell_type": "markdown",
   "id": "75fc2de1",
   "metadata": {},
   "source": [
    "### Популярность приложения и его рейтинг"
   ]
  },
  {
   "cell_type": "code",
   "execution_count": 70,
   "id": "f5fe155d",
   "metadata": {
    "scrolled": false
   },
   "outputs": [
    {
     "data": {
      "image/png": "[encoded data removed]",
      "text/plain": [
       "<Figure size 640x480 with 1 Axes>"
      ]
     },
     "metadata": {},
     "output_type": "display_data"
    }
   ],
   "source": [
    "sns.regplot(x=\"Installs\", y=\"Rating\",data=apps, line_kws={\"color\": sns.cubehelix_palette(66, start=.5, rot=-.75)[-12]})\n",
    "plt.xscale('log')"
   ]
  },
  {
   "cell_type": "markdown",
   "id": "0cdc4c2a",
   "metadata": {},
   "source": [
    "На графике видим, что в общем случае взаимосвязи нет. Небольшие различия есть только для приложений с очень большим кол-вом скачиваний, но этих приложений немного (около 3%)"
   ]
  },
  {
   "cell_type": "code",
   "execution_count": 71,
   "id": "0a8dc50d",
   "metadata": {},
   "outputs": [
    {
     "data": {
      "text/plain": [
       "SpearmanrResult(correlation=0.027296334350120834, pvalue=0.013463458702114359)"
      ]
     },
     "execution_count": 71,
     "metadata": {},
     "output_type": "execute_result"
    }
   ],
   "source": [
    "stats.spearmanr(apps.Installs, apps.Rating)"
   ]
  },
  {
   "cell_type": "code",
   "execution_count": 72,
   "id": "2658708f",
   "metadata": {},
   "outputs": [
    {
     "data": {
      "text/plain": [
       "PearsonRResult(statistic=0.040143372891307746, pvalue=0.000277806875313757)"
      ]
     },
     "execution_count": 72,
     "metadata": {},
     "output_type": "execute_result"
    }
   ],
   "source": [
    "stats.pearsonr(apps.Installs, apps.Rating)"
   ]
  },
  {
   "cell_type": "markdown",
   "id": "cca35e74",
   "metadata": {},
   "source": [
    "Коэффициенты корреляции Пирсона и Спирмена тоже указывают на очень слабую взаимосвязь"
   ]
  },
  {
   "cell_type": "markdown",
   "id": "3809a26b",
   "metadata": {},
   "source": [
    "#### Вывод: Популярность приложения не влияет на его рейтинг"
   ]
  },
  {
   "cell_type": "markdown",
   "id": "08ab0624",
   "metadata": {},
   "source": [
    "### Как отличается рейтинг платных и бесплатных приложений"
   ]
  },
  {
   "cell_type": "code",
   "execution_count": 73,
   "id": "fb5dc4e8",
   "metadata": {
    "scrolled": false
   },
   "outputs": [
    {
     "data": {
      "image/png": "[encoded data removed]",
      "text/plain": [
       "<Figure size 1000x500 with 2 Axes>"
      ]
     },
     "metadata": {},
     "output_type": "display_data"
    }
   ],
   "source": [
    "fig, axs = plt.subplots(nrows=1, ncols=2, figsize=(10, 5))\n",
    "sns.histplot(apps[apps.Type == 'Free']['Rating'], bins=15, ax=axs[0]).set(title='Free')\n",
    "axs[0].axvline(apps[apps.Type == 'Free']['Rating'].mean(), linewidth=1.75, color='#7E4E7C')\n",
    "axs[0].set_ylabel(None)\n",
    "sns.histplot(apps[apps.Type == 'Paid']['Rating'], bins=15, ax=axs[1]).set(title='Paid')\n",
    "axs[1].axvline(apps[apps.Type == 'Paid']['Rating'].mean(), linewidth=1.75, color='#7E4E7C')\n",
    "axs[1].set_ylabel(None)\n",
    "plt.show()"
   ]
  },
  {
   "cell_type": "code",
   "execution_count": 74,
   "id": "1f869906",
   "metadata": {},
   "outputs": [
    {
     "name": "stdout",
     "output_type": "stream",
     "text": [
      "Средний рейтинг для бесплатных приложений: 4.17\n",
      "Средний рейтинг для платных приложений: 4.26\n"
     ]
    }
   ],
   "source": [
    "print('Средний рейтинг для бесплатных приложений:', round(apps[apps.Type == 'Free']['Rating'].mean(), 2))\n",
    "print('Средний рейтинг для платных приложений:', round(apps[apps.Type == 'Paid']['Rating'].mean(), 2))"
   ]
  },
  {
   "cell_type": "code",
   "execution_count": 75,
   "id": "9ca31223",
   "metadata": {
    "scrolled": false
   },
   "outputs": [
    {
     "data": {
      "image/png": "[encoded data removed]",
      "text/plain": [
       "<Figure size 1000x500 with 2 Axes>"
      ]
     },
     "metadata": {},
     "output_type": "display_data"
    }
   ],
   "source": [
    "fig, axs = plt.subplots(nrows=1, ncols=2, figsize=(10, 5))\n",
    "sns.boxplot(apps.loc[apps.Type == 'Free', 'Rating'], ax=axs[0]).set(title='Free')\n",
    "sns.boxplot(apps[apps.Type == 'Paid']['Rating'].reset_index(drop=True), ax=axs[1]).set(title='Paid')\n",
    "plt.show()"
   ]
  },
  {
   "cell_type": "code",
   "execution_count": 76,
   "id": "99a67675",
   "metadata": {},
   "outputs": [
    {
     "name": "stdout",
     "output_type": "stream",
     "text": [
      "Размеры выборок: 7592 , 604\n"
     ]
    }
   ],
   "source": [
    "print('Размеры выборок:', apps[apps.Type == 'Free']['Rating'].shape[0], ',', apps[apps.Type == 'Paid']['Rating'].shape[0])"
   ]
  },
  {
   "cell_type": "markdown",
   "id": "58d1d811",
   "metadata": {},
   "source": [
    "Обе выборки очень далеки от нормального распределения и имеют выбросы. В таком случае вместо теста Стьюдента разумнее будет воспользоваться критерием Манна-Уитни"
   ]
  },
  {
   "cell_type": "markdown",
   "id": "c09be35a",
   "metadata": {},
   "source": [
    "В обычной ситуации критерий Манна-Уитни имеет чуть меньшую мощность по сравнению с тестом Стьюдента, но в случае, когда в обеих выборках наблюдается сильная асимметрия в одинаковом направлении, он может быть даже мощнее теста Стьюдента, поэтому его использование здесь оправдано"
   ]
  },
  {
   "cell_type": "markdown",
   "id": "b7957729",
   "metadata": {},
   "source": [
    "<b>Порог значимости</b>: alpha = 0.05  \n",
    "<b>Нулевая гипотеза</b>: Между двумя независимыми выборками нет статистически значимых различий"
   ]
  },
  {
   "cell_type": "code",
   "execution_count": 77,
   "id": "bc4656bb",
   "metadata": {},
   "outputs": [
    {
     "data": {
      "text/plain": [
       "MannwhitneyuResult(statistic=1934248.0, pvalue=1.305390846513257e-10)"
      ]
     },
     "execution_count": 77,
     "metadata": {},
     "output_type": "execute_result"
    }
   ],
   "source": [
    "stats.mannwhitneyu(apps[apps.Type == 'Free']['Rating'], apps[apps.Type == 'Paid']['Rating'])"
   ]
  },
  {
   "cell_type": "markdown",
   "id": "e4e1175e",
   "metadata": {},
   "source": [
    "p-value < 0.05, поэтому мы можем отвергнуть нулевую гипотезу"
   ]
  },
  {
   "cell_type": "markdown",
   "id": "5c02f160",
   "metadata": {},
   "source": [
    "Таким образом, рейтинг для платных и бесплатных приложений статистически значимо различается"
   ]
  },
  {
   "cell_type": "markdown",
   "id": "11c69629",
   "metadata": {},
   "source": [
    "На графике boxplot видим, что платные приложения имеют рейтинг выше (их медиана и IQR располагаются выше)"
   ]
  },
  {
   "cell_type": "markdown",
   "id": "0148c20e",
   "metadata": {},
   "source": [
    "#### Вывод: Платные приложения оцениваются выше"
   ]
  },
  {
   "cell_type": "markdown",
   "id": "467ed28e",
   "metadata": {},
   "source": [
    "### Рейтинг приложений по категориям"
   ]
  },
  {
   "cell_type": "code",
   "execution_count": 78,
   "id": "cfa90b5e",
   "metadata": {
    "scrolled": false
   },
   "outputs": [
    {
     "data": {
      "image/png": "[encoded data removed]",
      "text/plain": [
       "<Figure size 640x480 with 1 Axes>"
      ]
     },
     "metadata": {},
     "output_type": "display_data"
    }
   ],
   "source": [
    "sns.barplot(x=apps.Rating, y=apps.Category, errcolor=sns.cubehelix_palette(66, start=.5, rot=-.75)[-12],\n",
    "           order=apps.groupby('Category')['Rating'].mean().sort_values(ascending=False).index, errorbar=None).set_xlim(3, 5)\n",
    "plt.tight_layout()"
   ]
  },
  {
   "cell_type": "code",
   "execution_count": 79,
   "id": "fcb67600",
   "metadata": {},
   "outputs": [
    {
     "data": {
      "text/plain": [
       "FAMILY                 1608\n",
       "GAME                    912\n",
       "TOOLS                   718\n",
       "FINANCE                 302\n",
       "PRODUCTIVITY            301\n",
       "LIFESTYLE               301\n",
       "PERSONALIZATION         298\n",
       "MEDICAL                 290\n",
       "BUSINESS                263\n",
       "PHOTOGRAPHY             263\n",
       "SPORTS                  260\n",
       "COMMUNICATION           256\n",
       "HEALTH_AND_FITNESS      244\n",
       "NEWS_AND_MAGAZINES      204\n",
       "SOCIAL                  203\n",
       "TRAVEL_AND_LOCAL        187\n",
       "SHOPPING                180\n",
       "BOOKS_AND_REFERENCE     169\n",
       "VIDEO_PLAYERS           148\n",
       "DATING                  134\n",
       "MAPS_AND_NAVIGATION     118\n",
       "EDUCATION               118\n",
       "ENTERTAINMENT           102\n",
       "FOOD_AND_DRINK           94\n",
       "AUTO_AND_VEHICLES        73\n",
       "WEATHER                  72\n",
       "LIBRARIES_AND_DEMO       64\n",
       "HOUSE_AND_HOME           62\n",
       "ART_AND_DESIGN           61\n",
       "COMICS                   54\n",
       "PARENTING                50\n",
       "EVENTS                   45\n",
       "BEAUTY                   42\n",
       "Name: Category, dtype: int64"
      ]
     },
     "execution_count": 79,
     "metadata": {},
     "output_type": "execute_result"
    }
   ],
   "source": [
    "# посмотрим на размеры групп\n",
    "apps.Category.value_counts()"
   ]
  },
  {
   "cell_type": "markdown",
   "id": "77026c3e",
   "metadata": {},
   "source": [
    "Проверим, равны ли дисперсии в группах, при помощи теста Левена"
   ]
  },
  {
   "cell_type": "markdown",
   "id": "ce7b3b8b",
   "metadata": {},
   "source": [
    "<b>Порог значимости</b>: alpha = 0.05  \n",
    "<b>Нулевая гипотеза</b>: Диспресии групп равны"
   ]
  },
  {
   "cell_type": "code",
   "execution_count": 80,
   "id": "d9ce9091",
   "metadata": {},
   "outputs": [
    {
     "data": {
      "text/plain": [
       "LeveneResult(statistic=8.53541088198695, pvalue=2.6463705837556755e-39)"
      ]
     },
     "execution_count": 80,
     "metadata": {},
     "output_type": "execute_result"
    }
   ],
   "source": [
    "stats.levene(*apps.groupby('Category')['Rating'].apply(list))"
   ]
  },
  {
   "cell_type": "markdown",
   "id": "ce0bfb48",
   "metadata": {},
   "source": [
    "p-value < 0.05, отвергаем нулевую гипотезу о равенстве дисперсий в группах"
   ]
  },
  {
   "cell_type": "markdown",
   "id": "f3c8e0dc",
   "metadata": {},
   "source": [
    "Поскольку дисперсии не равны, для сравнения нескольких групп вместо ANOVA воспользуемся его непараметрическим аналогом - тестом Краскела-Уоллиса"
   ]
  },
  {
   "cell_type": "markdown",
   "id": "68ab52f4",
   "metadata": {},
   "source": [
    "<b>Порог значимости</b>: alpha = 0.05  \n",
    "<b>Нулевая гипотеза</b>: Распределения рейтинга равны для всех категорий"
   ]
  },
  {
   "cell_type": "code",
   "execution_count": 81,
   "id": "c8d82897",
   "metadata": {},
   "outputs": [
    {
     "data": {
      "text/plain": [
       "KruskalResult(statistic=244.66129347776862, pvalue=1.3343280576881393e-34)"
      ]
     },
     "execution_count": 81,
     "metadata": {},
     "output_type": "execute_result"
    }
   ],
   "source": [
    "stats.kruskal(*apps.groupby('Category')['Rating'].apply(list))"
   ]
  },
  {
   "cell_type": "markdown",
   "id": "f7d9f0f4",
   "metadata": {},
   "source": [
    "p-value < 0.05, отвергаем нулевую гипотезу о равенстве распределений"
   ]
  },
  {
   "cell_type": "markdown",
   "id": "2b8bdb37",
   "metadata": {},
   "source": [
    "#### Вывод: Рейтинг приложений статистически значимо различается по категориям"
   ]
  },
  {
   "cell_type": "markdown",
   "id": "711dc467",
   "metadata": {},
   "source": [
    "#### Выше всего оценивают категории \"События\" и \"Образование\", ниже всего - дейтинговые приложения и карты"
   ]
  },
  {
   "cell_type": "markdown",
   "id": "e43f94de",
   "metadata": {},
   "source": [
    "### Самые популярные категории"
   ]
  },
  {
   "cell_type": "code",
   "execution_count": 82,
   "id": "adcf1aac",
   "metadata": {},
   "outputs": [
    {
     "data": {
      "image/png": "[encoded data removed]",
      "text/plain": [
       "<Figure size 640x480 with 1 Axes>"
      ]
     },
     "metadata": {},
     "output_type": "display_data"
    }
   ],
   "source": [
    "sns.barplot(x=apps.Installs, y=apps.Category, errcolor=sns.cubehelix_palette(66, start=.5, rot=-.75)[-12], errorbar=None,\n",
    "           order=apps.groupby('Category')['Installs'].mean().sort_values(ascending=False).index)\n",
    "plt.xscale('log')\n",
    "plt.tight_layout()"
   ]
  },
  {
   "cell_type": "markdown",
   "id": "af86b742",
   "metadata": {},
   "source": [
    "Как и для предыдущей гипотезы, мы хотим узнать, является ли различие по категориям статистически значимым"
   ]
  },
  {
   "cell_type": "code",
   "execution_count": 83,
   "id": "67df1449",
   "metadata": {},
   "outputs": [
    {
     "data": {
      "text/plain": [
       "FAMILY                 1608\n",
       "GAME                    912\n",
       "TOOLS                   718\n",
       "FINANCE                 302\n",
       "PRODUCTIVITY            301\n",
       "LIFESTYLE               301\n",
       "PERSONALIZATION         298\n",
       "MEDICAL                 290\n",
       "BUSINESS                263\n",
       "PHOTOGRAPHY             263\n",
       "SPORTS                  260\n",
       "COMMUNICATION           256\n",
       "HEALTH_AND_FITNESS      244\n",
       "NEWS_AND_MAGAZINES      204\n",
       "SOCIAL                  203\n",
       "TRAVEL_AND_LOCAL        187\n",
       "SHOPPING                180\n",
       "BOOKS_AND_REFERENCE     169\n",
       "VIDEO_PLAYERS           148\n",
       "DATING                  134\n",
       "MAPS_AND_NAVIGATION     118\n",
       "EDUCATION               118\n",
       "ENTERTAINMENT           102\n",
       "FOOD_AND_DRINK           94\n",
       "AUTO_AND_VEHICLES        73\n",
       "WEATHER                  72\n",
       "LIBRARIES_AND_DEMO       64\n",
       "HOUSE_AND_HOME           62\n",
       "ART_AND_DESIGN           61\n",
       "COMICS                   54\n",
       "PARENTING                50\n",
       "EVENTS                   45\n",
       "BEAUTY                   42\n",
       "Name: Category, dtype: int64"
      ]
     },
     "execution_count": 83,
     "metadata": {},
     "output_type": "execute_result"
    }
   ],
   "source": [
    "# посмотрим на размеры групп\n",
    "apps.Category.value_counts()"
   ]
  },
  {
   "cell_type": "markdown",
   "id": "1ce3e75f",
   "metadata": {},
   "source": [
    "Проверим, равны ли дисперсии в группах, при помощи теста Левена"
   ]
  },
  {
   "cell_type": "markdown",
   "id": "8332b21e",
   "metadata": {},
   "source": [
    "<b>Порог значимости</b>: alpha = 0.05  \n",
    "<b>Нулевая гипотеза</b>: Диспресии групп равны"
   ]
  },
  {
   "cell_type": "code",
   "execution_count": 84,
   "id": "7236120f",
   "metadata": {},
   "outputs": [
    {
     "data": {
      "text/plain": [
       "LeveneResult(statistic=8.53541088198695, pvalue=2.6463705837556755e-39)"
      ]
     },
     "execution_count": 84,
     "metadata": {},
     "output_type": "execute_result"
    }
   ],
   "source": [
    "stats.levene(*apps.groupby('Category')['Rating'].apply(list))"
   ]
  },
  {
   "cell_type": "markdown",
   "id": "28e79bab",
   "metadata": {},
   "source": [
    "p-value < 0.05, отвергаем нулевую гипотезу о равенстве дисперсий в группах"
   ]
  },
  {
   "cell_type": "markdown",
   "id": "91d12a0d",
   "metadata": {},
   "source": [
    "Поскольку дисперсии не равны, для сравнения нескольких групп вместо ANOVA воспользуемся его непараметрическим аналогом - тестом Краскела-Уоллиса"
   ]
  },
  {
   "cell_type": "markdown",
   "id": "bb1a86e4",
   "metadata": {},
   "source": [
    "<b>Порог значимости</b>: alpha = 0.05  \n",
    "<b>Нулевая гипотеза</b>: Распределения кол-ва установок равны для всех категорий"
   ]
  },
  {
   "cell_type": "code",
   "execution_count": 85,
   "id": "38fa77c8",
   "metadata": {},
   "outputs": [
    {
     "data": {
      "text/plain": [
       "KruskalResult(statistic=911.6364082409793, pvalue=6.615205685217198e-171)"
      ]
     },
     "execution_count": 85,
     "metadata": {},
     "output_type": "execute_result"
    }
   ],
   "source": [
    "stats.kruskal(*apps.groupby('Category')['Installs'].apply(list))"
   ]
  },
  {
   "cell_type": "markdown",
   "id": "9dbd6806",
   "metadata": {},
   "source": [
    "p-value < 0.05, отвергаем нулевую гипотезу о равенстве распределений"
   ]
  },
  {
   "cell_type": "markdown",
   "id": "a7b2dcb5",
   "metadata": {},
   "source": [
    "#### Вывод: Кол-во скачиваний приложений статистически значимо отличается по категориям"
   ]
  },
  {
   "cell_type": "markdown",
   "id": "769e7c86",
   "metadata": {},
   "source": [
    "#### Больше всего скачивают приложения для общения с другими людьми (COMMUNICATION, SOCIAL)"
   ]
  },
  {
   "cell_type": "markdown",
   "id": "2906dd24",
   "metadata": {},
   "source": [
    "### Самые популярные возрастные категории"
   ]
  },
  {
   "cell_type": "code",
   "execution_count": 86,
   "id": "6723705d",
   "metadata": {},
   "outputs": [
    {
     "data": {
      "image/png": "[encoded data removed]",
      "text/plain": [
       "<Figure size 640x480 with 1 Axes>"
      ]
     },
     "metadata": {},
     "output_type": "display_data"
    }
   ],
   "source": [
    "ax = sns.barplot(data=apps, x='Content_Rating', y='Installs', errcolor=sns.cubehelix_palette(66, start=.5, rot=-.75)[-12],\n",
    "                order=apps.groupby('Content_Rating')['Installs'].mean().sort_values(ascending=False).index)\n",
    "ax.set_xticklabels(ax.get_xticklabels(), fontsize=9)\n",
    "plt.yscale('log')\n",
    "plt.tight_layout()"
   ]
  },
  {
   "cell_type": "code",
   "execution_count": 87,
   "id": "00444ff2",
   "metadata": {},
   "outputs": [
    {
     "data": {
      "text/plain": [
       "Content_Rating\n",
       "Teen               1.807791e+07\n",
       "Everyone 10+       1.316769e+07\n",
       "Everyone           7.883647e+06\n",
       "Mature 17+         6.828719e+06\n",
       "Adults only 18+    6.666667e+05\n",
       "Unrated            5.000000e+04\n",
       "Name: Installs, dtype: float64"
      ]
     },
     "execution_count": 87,
     "metadata": {},
     "output_type": "execute_result"
    }
   ],
   "source": [
    "apps.groupby('Content_Rating')['Installs'].mean().sort_values(ascending=False)"
   ]
  },
  {
   "cell_type": "code",
   "execution_count": 88,
   "id": "34a89f72",
   "metadata": {},
   "outputs": [
    {
     "data": {
      "image/png": "[encoded data removed]",
      "text/plain": [
       "<Figure size 640x480 with 1 Axes>"
      ]
     },
     "metadata": {},
     "output_type": "display_data"
    }
   ],
   "source": [
    "ax = sns.boxplot(x=\"Content_Rating\", y=\"Installs\", data=apps,\n",
    "            order=apps.groupby('Content_Rating')['Installs'].mean().sort_values(ascending=False).index)\n",
    "ax.set_xticklabels(ax.get_xticklabels(), fontsize=9)\n",
    "plt.yscale('log')\n",
    "plt.tight_layout()"
   ]
  },
  {
   "cell_type": "markdown",
   "id": "15ff752f",
   "metadata": {},
   "source": [
    "Как и для предыдущих гипотез, проверим, является ли различие между группами статистически значимым"
   ]
  },
  {
   "cell_type": "code",
   "execution_count": 89,
   "id": "02d206b5",
   "metadata": {},
   "outputs": [
    {
     "data": {
      "text/plain": [
       "Everyone           6618\n",
       "Teen                912\n",
       "Mature 17+          357\n",
       "Everyone 10+        305\n",
       "Adults only 18+       3\n",
       "Unrated               1\n",
       "Name: Content_Rating, dtype: int64"
      ]
     },
     "execution_count": 89,
     "metadata": {},
     "output_type": "execute_result"
    }
   ],
   "source": [
    "apps.Content_Rating.value_counts()"
   ]
  },
  {
   "cell_type": "markdown",
   "id": "a5052086",
   "metadata": {},
   "source": [
    "У выборок категорий \"Adults only 18+\" и \"Unrated\" достаточно мало наблюдений и в целом, и по сравнению с другими группами, поэтому я бы не хотел делать на их основе выводы об этих категориях (хотя для \"Adults only 18+\" технически это вполне возможно). В дальнейшем будем сравнивать первые 4 группы"
   ]
  },
  {
   "cell_type": "markdown",
   "id": "17375f69",
   "metadata": {},
   "source": [
    "Проверим, равны ли дисперсии в группах, при помощи теста Левена"
   ]
  },
  {
   "cell_type": "markdown",
   "id": "0e6bc00f",
   "metadata": {},
   "source": [
    "<b>Порог значимости</b>: alpha = 0.05  \n",
    "<b>Нулевая гипотеза</b>: Диспресии групп равны"
   ]
  },
  {
   "cell_type": "code",
   "execution_count": 90,
   "id": "0f175b79",
   "metadata": {},
   "outputs": [
    {
     "data": {
      "text/plain": [
       "LeveneResult(statistic=17.97291301164438, pvalue=1.2715708605642925e-11)"
      ]
     },
     "execution_count": 90,
     "metadata": {},
     "output_type": "execute_result"
    }
   ],
   "source": [
    "stats.levene(*apps[apps.Content_Rating.isin(['Everyone', 'Teen', 'Mature 17+', 'Everyone 10+'])] \\\n",
    "             .groupby('Content_Rating')['Rating'].apply(list))"
   ]
  },
  {
   "cell_type": "markdown",
   "id": "2acb8437",
   "metadata": {},
   "source": [
    "p-value < 0.05, отвергаем нулевую гипотезу о равенстве дисперсий в группах"
   ]
  },
  {
   "cell_type": "markdown",
   "id": "b7f031c9",
   "metadata": {},
   "source": [
    "Поскольку дисперсии не равны, для сравнения нескольких групп вместо ANOVA воспользуемся его непараметрическим аналогом - тестом Краскела-Уоллиса"
   ]
  },
  {
   "cell_type": "code",
   "execution_count": 91,
   "id": "6965d903",
   "metadata": {},
   "outputs": [],
   "source": [
    "# создаем список со значениями installs приложений с нужными нам Content_Rating\n",
    "cont_rating_groups = [apps[apps.Content_Rating == x]['Installs'] for x in ('Everyone', 'Teen', 'Mature 17+', 'Everyone 10+')]"
   ]
  },
  {
   "cell_type": "markdown",
   "id": "4ca0fd0a",
   "metadata": {},
   "source": [
    "<b>Порог значимости</b>: alpha = 0.05  \n",
    "<b>Нулевая гипотеза</b>: Распределения кол-ва установок равны для всех категорий"
   ]
  },
  {
   "cell_type": "code",
   "execution_count": 92,
   "id": "9a63c9fe",
   "metadata": {},
   "outputs": [
    {
     "data": {
      "text/plain": [
       "KruskalResult(statistic=168.22161903057952, pvalue=3.0802046349398896e-36)"
      ]
     },
     "execution_count": 92,
     "metadata": {},
     "output_type": "execute_result"
    }
   ],
   "source": [
    "stats.kruskal(*cont_rating_groups)"
   ]
  },
  {
   "cell_type": "markdown",
   "id": "f25de119",
   "metadata": {},
   "source": [
    "p-value < 0.05, отвергаем нулевую гипотезу о равенстве распределений"
   ]
  },
  {
   "cell_type": "markdown",
   "id": "d8f14380",
   "metadata": {},
   "source": [
    "#### Вывод: Кол-во скачиваний приложений статистически значимо различается для разных возрастных категорий"
   ]
  },
  {
   "cell_type": "markdown",
   "id": "d7010b76",
   "metadata": {},
   "source": [
    "Для того, чтобы узнать, между какими именно группами существует статистически значимое различие, применим тест Данна"
   ]
  },
  {
   "cell_type": "markdown",
   "id": "c199faf6",
   "metadata": {},
   "source": [
    "<b>Порог значимости</b>: alpha = 0.05  \n",
    "<b>Нулевая гипотеза</b>: Нет статистически значимой разницы между парами групп, с учетом корректировки на множественные сравнения"
   ]
  },
  {
   "cell_type": "code",
   "execution_count": 93,
   "id": "66cdeb3e",
   "metadata": {},
   "outputs": [
    {
     "name": "stdout",
     "output_type": "stream",
     "text": [
      "                  Everyone  Everyone 10+  Mature 17+          Teen\n",
      "Everyone      1.000000e+00  1.640950e-14    0.000086  2.885251e-26\n",
      "Everyone 10+  1.640950e-14  1.000000e+00    0.002448  2.566590e-01\n",
      "Mature 17+    8.640666e-05  2.448398e-03    1.000000  9.820854e-03\n",
      "Teen          2.885251e-26  2.566590e-01    0.009821  1.000000e+00\n"
     ]
    }
   ],
   "source": [
    "import scikit_posthocs as sp\n",
    "print(sp.posthoc_dunn(a=apps[apps.Content_Rating.isin(['Everyone', 'Teen', 'Mature 17+', 'Everyone 10+'])],\n",
    "                      val_col='Installs', group_col='Content_Rating', sort=True))"
   ]
  },
  {
   "cell_type": "markdown",
   "id": "c81be4e5",
   "metadata": {},
   "source": [
    "p-value < 0.05 для всех попарных сравнений групп, отвергаем нулевую гипотезу для всех пар групп"
   ]
  },
  {
   "cell_type": "markdown",
   "id": "d17091ee",
   "metadata": {},
   "source": [
    "Получили статистически значимые различия в кол-ве установок для всех групп. В частности, приложения категории Teen статистически значимо отличаются по кол-ву установок от всех остальных групп"
   ]
  },
  {
   "cell_type": "markdown",
   "id": "e564e057",
   "metadata": {},
   "source": [
    "#### Вывод: Приложения возрастной категории Teen популярнее остальных"
   ]
  },
  {
   "cell_type": "markdown",
   "id": "06dc6691",
   "metadata": {},
   "source": [
    "### Размер приложения и его рейтинг"
   ]
  },
  {
   "cell_type": "code",
   "execution_count": 94,
   "id": "e95b1c55",
   "metadata": {},
   "outputs": [
    {
     "data": {
      "image/png": "[encoded data removed]",
      "text/plain": [
       "<Figure size 640x480 with 1 Axes>"
      ]
     },
     "metadata": {},
     "output_type": "display_data"
    }
   ],
   "source": [
    "sns.regplot(x=\"Size_Mb\", y=\"Rating\",data=apps, line_kws={\"color\": sns.cubehelix_palette(66, start=.5, rot=-.75)[-12]})\n",
    "plt.show()"
   ]
  },
  {
   "cell_type": "markdown",
   "id": "8eb9cde6",
   "metadata": {},
   "source": [
    "На графике видим положительную линейную взаимосвязь"
   ]
  },
  {
   "cell_type": "markdown",
   "id": "617497fd",
   "metadata": {},
   "source": [
    "Проверим, является ли эта взаимосвязь статистически значимой, и какой коэффициент корреляции"
   ]
  },
  {
   "cell_type": "markdown",
   "id": "68669956",
   "metadata": {},
   "source": [
    "<b>Порог значимости</b>: alpha = 0.05  \n",
    "<b>Нулевая гипотеза</b>: Статистически значимая связь между переменными отсутствует"
   ]
  },
  {
   "cell_type": "code",
   "execution_count": 95,
   "id": "34737504",
   "metadata": {},
   "outputs": [
    {
     "data": {
      "text/plain": [
       "PearsonRResult(statistic=0.059809308719312566, pvalue=6.004495984861902e-08)"
      ]
     },
     "execution_count": 95,
     "metadata": {},
     "output_type": "execute_result"
    }
   ],
   "source": [
    "stats.pearsonr(apps.Size_Mb, apps.Rating)"
   ]
  },
  {
   "cell_type": "markdown",
   "id": "d38aca62",
   "metadata": {},
   "source": [
    "p-value < 0.05, отвергаем нулевую гипотезу об отсутствии связи"
   ]
  },
  {
   "cell_type": "markdown",
   "id": "288427df",
   "metadata": {},
   "source": [
    "Статистически значимая связь есть, но она, с моей точки зрения, незначительна (0.06) и не несет никакой пользы (никто не будет искусственно увеличивать размер своего приложения в надежде на то, что рейтинг тоже вырастет)"
   ]
  },
  {
   "cell_type": "markdown",
   "id": "423a2cef",
   "metadata": {},
   "source": [
    "Наиболее полезным замечанием может быть следующее: <b>Если увеличить размер своего приложения, его рейтинг не упадет</b>"
   ]
  },
  {
   "cell_type": "markdown",
   "id": "a82fff8d",
   "metadata": {},
   "source": [
    "# Выводы:  \n",
    "1. Популярность приложения не коррелирует с его рейтингом \n",
    "2. Платные приложения оцениваются выше  \n",
    "3. Рейтинг приложений статистически значимо отличается у разных категорий. Выше всего оценивают приложения категорий \"События\" и \"Образование\", ниже всего - дейтинговые приложения и карты  \n",
    "4. Больше всего скачивают приложения для общения с другими людьми  \n",
    "5. Больше всего скачивают приложения для возрастной категории \"Подростки\"  \n",
    "6. Размер приложения не коррелирует с его рейтингом"
   ]
  }
 ],
 "metadata": {
  "kernelspec": {
   "display_name": "Python 3 (ipykernel)",
   "language": "python",
   "name": "python3"
  },
  "language_info": {
   "codemirror_mode": {
    "name": "ipython",
    "version": 3
   },
   "file_extension": ".py",
   "mimetype": "text/x-python",
   "name": "python",
   "nbconvert_exporter": "python",
   "pygments_lexer": "ipython3",
   "version": "3.10.7"
  }
 },
 "nbformat": 4,
 "nbformat_minor": 5
}
